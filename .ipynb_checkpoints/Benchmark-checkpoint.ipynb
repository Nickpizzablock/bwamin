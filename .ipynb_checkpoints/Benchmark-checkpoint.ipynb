{
 "cells": [
  {
   "cell_type": "markdown",
   "id": "e2f84bba",
   "metadata": {},
   "source": [
    "# Bwamin VS BWA Benchmark"
   ]
  },
  {
   "cell_type": "markdown",
   "id": "0c73f55b",
   "metadata": {},
   "source": [
    "## Table of Contents\n",
    "Note: Click to jump to section\n",
    "1. [Installation Check](#installation)\n",
    "2. [Time Section](#time)\n",
    "    1. BWT\n",
    "    2. SW\n",
    "    3. BWA\n",
    "    4. Graphs\n",
    "3. [Memory Section](#memory)\n",
    "    1. BWT\n",
    "    2. SW\n",
    "    3. BWA\n",
    "    4. Graphs\n",
    "4. [Conclusions](#conclusions)"
   ]
  },
  {
   "cell_type": "markdown",
   "id": "780eaf2c",
   "metadata": {},
   "source": [
    "## Installation Check <a name=\"installation\"></a>"
   ]
  },
  {
   "cell_type": "markdown",
   "id": "03fb0ebe",
   "metadata": {},
   "source": [
    "Let's check if BWA and Bwamin are installed"
   ]
  },
  {
   "cell_type": "code",
   "execution_count": 1,
   "id": "9196ac9f",
   "metadata": {},
   "outputs": [
    {
     "name": "stdout",
     "output_type": "stream",
     "text": [
      "\r\n",
      "Program: bwa (alignment via Burrows-Wheeler transformation)\r\n",
      "Version: 0.7.17-r1198-dirty\r\n",
      "Contact: Heng Li <hli@ds.dfci.harvard.edu>\r\n",
      "\r\n",
      "Usage:   bwa <command> [options]\r\n",
      "\r\n",
      "Command: index         index sequences in the FASTA format\r\n",
      "         mem           BWA-MEM algorithm\r\n",
      "         fastmap       identify super-maximal exact matches\r\n",
      "         pemerge       merge overlapping paired ends (EXPERIMENTAL)\r\n",
      "         aln           gapped/ungapped alignment\r\n",
      "         samse         generate alignment (single ended)\r\n",
      "         sampe         generate alignment (paired ended)\r\n",
      "         bwasw         BWA-SW for long queries (DEPRECATED)\r\n",
      "\r\n",
      "         shm           manage indices in shared memory\r\n",
      "         fa2pac        convert FASTA to PAC format\r\n",
      "         pac2bwt       generate BWT from PAC\r\n",
      "         pac2bwtgen    alternative algorithm for generating BWT\r\n",
      "         bwtupdate     update .bwt to the new format\r\n",
      "         bwt2sa        generate SA from BWT and Occ\r\n",
      "\r\n",
      "Note: To use BWA, you need to first index the genome with `bwa index'.\r\n",
      "      There are three alignment algorithms in BWA: `mem', `bwasw', and\r\n",
      "      `aln/samse/sampe'. If you are not sure which to use, try `bwa mem'\r\n",
      "      first. Please `man ./bwa.1' for the manual.\r\n",
      "\r\n"
     ]
    }
   ],
   "source": [
    "!bwa"
   ]
  },
  {
   "cell_type": "code",
   "execution_count": 2,
   "id": "2f2be184",
   "metadata": {},
   "outputs": [
    {
     "name": "stdout",
     "output_type": "stream",
     "text": [
      "usage: bwamin.py [-h] [--index] [--mem] [--bwt] [--sw] [--fasta FASTA]\r\n",
      "                 [--fastq FASTQ] [-A A] [-B B] [-O O] [-E E]\r\n",
      "\r\n",
      "minimum bwa\r\n",
      "\r\n",
      "optional arguments:\r\n",
      "  -h, --help            show this help message and exit\r\n",
      "  --index               index a fasta file\r\n",
      "  --mem                 index a fasta file\r\n",
      "  --bwt                 enables Burrow-Wheeler Transform search\r\n",
      "  --sw                  enables Smith-Waterman search\r\n",
      "  --fasta FASTA, --fa FASTA\r\n",
      "                        fasta input\r\n",
      "  --fastq FASTQ, --fq FASTQ\r\n",
      "                        fastq input\r\n",
      "  -A A                  Matching score. [1]\r\n",
      "  -B B                  Mismatch penalty. The sequence error rate is\r\n",
      "                        approximately: {.75 * exp[-log(4) * B/A]}. [4]\r\n",
      "  -O O                  Gap open penalty. [6]\r\n",
      "  -E E                  Gap extension penalty. A gap of length k costs O + k*E\r\n",
      "                        (i.e. -O is for opening a zero-length gap). [1]\r\n"
     ]
    }
   ],
   "source": [
    "!python bwamin.py -h"
   ]
  },
  {
   "cell_type": "markdown",
   "id": "80451e69",
   "metadata": {},
   "source": [
    "## Time Section <a name=\"time\"></a>"
   ]
  },
  {
   "cell_type": "markdown",
   "id": "40cfc392",
   "metadata": {},
   "source": [
    "We will test bwamin bwt, bwamin sw, and bwa on a custom\n",
    "short, and longer files."
   ]
  },
  {
   "cell_type": "code",
   "execution_count": 3,
   "id": "12962065",
   "metadata": {},
   "outputs": [],
   "source": [
    "# Helper commands so we can graph later\n",
    "import pandas as pd\n",
    "import seaborn as sns\n",
    "\n",
    "# Change string to seconds\n",
    "def timing(string):\n",
    "    if type(string) == type(0.01):\n",
    "        return string\n",
    "    elements = string.split('m')\n",
    "    minutes = elements[0]\n",
    "    seconds = elements[1]\n",
    "\n",
    "    seconds = seconds.replace('s', '')\n",
    "    minues = minutes.strip()\n",
    "    seconds = seconds.strip()\n",
    "\n",
    "    if not minutes.isnumeric() or seconds.isnumeric():\n",
    "        print('ERROR')\n",
    "\n",
    "    return (float(minutes) * 60 + float(seconds))\n",
    "    \n",
    "def convertTime(filename):\n",
    "    if '.txt' not in filename:\n",
    "        filename = filename + '.txt'\n",
    "    x = pd.read_csv(filename, sep='\\t', header=None)\n",
    "    x[1] = x[1].apply(timing)\n",
    "    x.to_csv(filename, header=False, index=False, sep='\\t')     \n",
    "    \n",
    "# Summing the time with index and mem to one file\n",
    "def addTime(filename):\n",
    "    # Read files\n",
    "    x = pd.read_csv(filename + \"Index.txt\", sep='\\t', header=None)\n",
    "    y = pd.read_csv(filename + \"Mem.txt\", sep='\\t', header=None)\n",
    "    \n",
    "    # Convert and add times\n",
    "    x[1] = x[1].apply(timing)\n",
    "    y[1] = y[1].apply(timing)\n",
    "    x[1] = x[1] + y[1]\n",
    "    \n",
    "    # Write to file\n",
    "    x.to_csv(filename + '.txt', header=False, index=False, sep='\\t') "
   ]
  },
  {
   "cell_type": "markdown",
   "id": "d9325e97",
   "metadata": {},
   "source": [
    "### Short"
   ]
  },
  {
   "cell_type": "code",
   "execution_count": 7,
   "id": "8be7fa2e",
   "metadata": {},
   "outputs": [],
   "source": [
    "%%capture\n",
    "# Bwt\n",
    "!{ time python bwamin.py --index --bwt --fa short.fa \\\n",
    "  2> sleep.stderr ;} 2> bwaminBwtShortTimeIndex.txt\n",
    "!{ time python bwamin.py --mem --bwt --fa short.fa --fq short.fq \\\n",
    "  2> sleep.stderr ;} 2> bwaminBwtShortTimeMem.txt\n",
    "addTime('bwaminBwtShortTime')\n",
    "\n",
    "# Sw\n",
    "!{ time python bwamin.py --mem --sw --fa short.fa --fq short.fq \\\n",
    "  2> sleep.stderr ;} 2> bwaminSwShortTime.txt\n",
    "convertTime('bwaminSwShortTime.txt')\n",
    "\n",
    "# Bwa\n",
    "!{ time bwa index short.fa \\\n",
    "  2> sleep.stderr ;} 2> bwaShortTimeIndex.txt\n",
    "!{ time bwa mem short.fa short.fq \\\n",
    "  2> sleep.stderr ;} 2> bwaShortTimeMem.txt\n",
    "addTime('bwaShortTime')"
   ]
  },
  {
   "cell_type": "code",
   "execution_count": 8,
   "id": "8c5e39c5",
   "metadata": {},
   "outputs": [
    {
     "name": "stdout",
     "output_type": "stream",
     "text": [
      "Bwt\n",
      "real\t0.507\n",
      "user\t0.43\n",
      "sys\t0.066\n",
      "\n",
      "Sw\n",
      "real\t0.236\n",
      "user\t0.193\n",
      "sys\t0.039\n",
      "\n",
      "Bwa\n",
      "real\t0.023\n",
      "user\t0.005\n",
      "sys\t0.009000000000000001\n"
     ]
    }
   ],
   "source": [
    "# Print Short Results\n",
    "print('Bwt')\n",
    "!cat bwaminBwtShortTime.txt\n",
    "print('\\nSw')\n",
    "!cat bwaminSwShortTime.txt\n",
    "print('\\nBwa')\n",
    "!cat bwaShortTime.txt"
   ]
  },
  {
   "cell_type": "markdown",
   "id": "98db58da",
   "metadata": {},
   "source": [
    "## Medium"
   ]
  },
  {
   "cell_type": "code",
   "execution_count": 9,
   "id": "35500051",
   "metadata": {},
   "outputs": [
    {
     "name": "stdout",
     "output_type": "stream",
     "text": [
      "align.py\t\t     bwaShortTimeMem.txt  short.fa.bwt\r\n",
      "benchmark\t\t     bwaShortTime.txt\t  short.fa.fai\r\n",
      "Benchmark.ipynb\t\t     bwt.py\t\t  short.fa.myindex\r\n",
      "bwaminBwtShortIndex.txt      fixfasta.py\t  short.fa.pac\r\n",
      "bwaminBwtShortMem.txt\t     myNotes.md\t\t  short.fa.sa\r\n",
      "bwaminBwtShortTimeIndex.txt  notebookTests\t  short.fq\r\n",
      "bwaminBwtShortTimeMem.txt    output.txt\t\t  sleep.stderr\r\n",
      "bwaminBwtShortTime.txt\t     __pycache__\t  testfastring.fa\r\n",
      "bwaminBwtShort.txt\t     README.md\t\t  testfastring.fa.fai\r\n",
      "bwaminBWTShort.txt\t     README.md.old\t  testfastring.fa.myindex\r\n",
      "bwamin.py\t\t     sambuild.py\t  testfqstring.fq\r\n",
      "bwaminSwShortTime.txt\t     short.fa\t\t  zenith.sam\r\n",
      "bwaminSwShort.txt\t     short.fa.amb\t  zenith.txt\r\n",
      "bwaShortTimeIndex.txt\t     short.fa.ann\r\n"
     ]
    }
   ],
   "source": [
    "!ls"
   ]
  },
  {
   "cell_type": "code",
   "execution_count": null,
   "id": "c57e8276",
   "metadata": {},
   "outputs": [],
   "source": [
    "%%capture\n",
    "# Bwt\n",
    "!{ time python bwamin.py --index --bwt --fa testfastring.fa \\\n",
    "  2> sleep.stderr ;} 2> bwaminBwtShortTimeIndex.txt\n",
    "!{ time python bwamin.py --mem --bwt --fa testfastring.fa --fq short.fq \\\n",
    "  2> sleep.stderr ;} 2> bwaminBwtShortTimeMem.txt\n",
    "addTime('bwaminBwtShortTime')\n",
    "\n",
    "# Sw\n",
    "!{ time python bwamin.py --mem --sw --fa testfastring.fa --fq short.fq \\\n",
    "  2> sleep.stderr ;} 2> bwaminSwShortTime.txt\n",
    "convertTime('bwaminSwShortTime.txt')\n",
    "\n",
    "# Bwa\n",
    "!{ time bwa index testfastring.fa \\\n",
    "  2> sleep.stderr ;} 2> bwaShortTimeIndex.txt\n",
    "!{ time bwa mem testfastring.fa short.fq \\\n",
    "  2> sleep.stderr ;} 2> bwaShortTimeMem.txt\n",
    "addTime('bwaShortTime')"
   ]
  },
  {
   "cell_type": "markdown",
   "id": "594c1526",
   "metadata": {},
   "source": [
    "### Long"
   ]
  },
  {
   "cell_type": "code",
   "execution_count": null,
   "id": "9742efa1",
   "metadata": {},
   "outputs": [],
   "source": []
  },
  {
   "cell_type": "markdown",
   "id": "10509d48",
   "metadata": {},
   "source": [
    "### Graphs"
   ]
  }
 ],
 "metadata": {
  "kernelspec": {
   "display_name": "Python 3 (ipykernel)",
   "language": "python",
   "name": "python3"
  },
  "language_info": {
   "codemirror_mode": {
    "name": "ipython",
    "version": 3
   },
   "file_extension": ".py",
   "mimetype": "text/x-python",
   "name": "python",
   "nbconvert_exporter": "python",
   "pygments_lexer": "ipython3",
   "version": "3.9.5"
  }
 },
 "nbformat": 4,
 "nbformat_minor": 5
}
