{
 "cells": [
  {
   "cell_type": "markdown",
   "id": "e2f84bba",
   "metadata": {},
   "source": [
    "# Bwamin VS BWA Benchmark"
   ]
  },
  {
   "cell_type": "markdown",
   "id": "bceab478",
   "metadata": {},
   "source": [
    "Note: Bwamin --mem --sw will fail for Large + files. DO NOT RUN!"
   ]
  },
  {
   "cell_type": "markdown",
   "id": "0c73f55b",
   "metadata": {},
   "source": [
    "## Table of Contents\n",
    "Note: Click to jump to section\n",
    "1. [Installation Check](#installation)\n",
    "2. [Time Section](#time)\n",
    "    1. BWT\n",
    "    2. SW\n",
    "    3. BWA\n",
    "    4. Graphs\n",
    "3. [Memory Section](#memory)\n",
    "    1. BWT\n",
    "    2. SW\n",
    "    3. BWA\n",
    "    4. Graphs\n",
    "4. [Conclusions](#conclusions)"
   ]
  },
  {
   "cell_type": "markdown",
   "id": "780eaf2c",
   "metadata": {},
   "source": [
    "## Installation Check <a name=\"installation\"></a>"
   ]
  },
  {
   "cell_type": "code",
   "execution_count": 3,
   "id": "0e8cfcda",
   "metadata": {},
   "outputs": [],
   "source": [
    "%%capture\n",
    "!echo hi\n",
    "# Run this cell to make capture small again"
   ]
  },
  {
   "cell_type": "markdown",
   "id": "03fb0ebe",
   "metadata": {},
   "source": [
    "Let's check if BWA and Bwamin are installed"
   ]
  },
  {
   "cell_type": "code",
   "execution_count": 4,
   "id": "9196ac9f",
   "metadata": {},
   "outputs": [
    {
     "name": "stdout",
     "output_type": "stream",
     "text": [
      "\r\n",
      "Program: bwa (alignment via Burrows-Wheeler transformation)\r\n",
      "Version: 0.7.17-r1188\r\n",
      "Contact: Heng Li <lh3@sanger.ac.uk>\r\n",
      "\r\n",
      "Usage:   bwa <command> [options]\r\n",
      "\r\n",
      "Command: index         index sequences in the FASTA format\r\n",
      "         mem           BWA-MEM algorithm\r\n",
      "         fastmap       identify super-maximal exact matches\r\n",
      "         pemerge       merge overlapping paired ends (EXPERIMENTAL)\r\n",
      "         aln           gapped/ungapped alignment\r\n",
      "         samse         generate alignment (single ended)\r\n",
      "         sampe         generate alignment (paired ended)\r\n",
      "         bwasw         BWA-SW for long queries\r\n",
      "\r\n",
      "         shm           manage indices in shared memory\r\n",
      "         fa2pac        convert FASTA to PAC format\r\n",
      "         pac2bwt       generate BWT from PAC\r\n",
      "         pac2bwtgen    alternative algorithm for generating BWT\r\n",
      "         bwtupdate     update .bwt to the new format\r\n",
      "         bwt2sa        generate SA from BWT and Occ\r\n",
      "\r\n",
      "Note: To use BWA, you need to first index the genome with `bwa index'.\r\n",
      "      There are three alignment algorithms in BWA: `mem', `bwasw', and\r\n",
      "      `aln/samse/sampe'. If you are not sure which to use, try `bwa mem'\r\n",
      "      first. Please `man ./bwa.1' for the manual.\r\n",
      "\r\n"
     ]
    }
   ],
   "source": [
    "!bwa"
   ]
  },
  {
   "cell_type": "code",
   "execution_count": 8,
   "id": "2f2be184",
   "metadata": {},
   "outputs": [
    {
     "name": "stdout",
     "output_type": "stream",
     "text": [
      "usage: bwamin.py [-h] [--index] [--mem] [--bwt] [--sw] [--fasta FASTA]\r\n",
      "                 [--fastq FASTQ] [-A A] [-B B] [-O O] [-E E] [-out OUT]\r\n",
      "\r\n",
      "minimum bwa\r\n",
      "\r\n",
      "options:\r\n",
      "  -h, --help            show this help message and exit\r\n",
      "  --index               index a fasta file\r\n",
      "  --mem                 index a fasta file\r\n",
      "  --bwt                 enables Burrow-Wheeler Transform search\r\n",
      "  --sw                  enables Smith-Waterman search\r\n",
      "  --fasta FASTA, --fa FASTA\r\n",
      "                        fasta input\r\n",
      "  --fastq FASTQ, --fq FASTQ\r\n",
      "                        fastq input\r\n",
      "  -A A                  Matching score. [1]\r\n",
      "  -B B                  Mismatch penalty. The sequence error rate is\r\n",
      "                        approximately: {.75 * exp[-log(4) * B/A]}. [4]\r\n",
      "  -O O                  Gap open penalty. [6]\r\n",
      "  -E E                  Gap extension penalty. A gap of length k costs O + k*E\r\n",
      "                        (i.e. -O is for opening a zero-length gap). [1]\r\n",
      "  -out OUT              Specify output file\r\n"
     ]
    }
   ],
   "source": [
    "!python bwamin.py -h"
   ]
  },
  {
   "cell_type": "markdown",
   "id": "80451e69",
   "metadata": {},
   "source": [
    "## Time Section <a name=\"time\"></a>"
   ]
  },
  {
   "cell_type": "markdown",
   "id": "40cfc392",
   "metadata": {},
   "source": [
    "We will test bwamin bwt, bwamin sw, and bwa on a custom\n",
    "short, and longer files."
   ]
  },
  {
   "cell_type": "code",
   "execution_count": 41,
   "id": "12962065",
   "metadata": {},
   "outputs": [],
   "source": [
    "# Helper commands so we can graph later\n",
    "import pandas as pd\n",
    "import seaborn as sns\n",
    "\n",
    "# Change string to seconds\n",
    "def timing(string):\n",
    "    if type(string) == type(0.01):\n",
    "        return string\n",
    "    elements = string.split('m')\n",
    "    minutes = elements[0]\n",
    "    seconds = elements[1]\n",
    "\n",
    "    seconds = seconds.replace('s', '')\n",
    "    minues = minutes.strip()\n",
    "    seconds = seconds.strip()\n",
    "\n",
    "    if not minutes.isnumeric() or seconds.isnumeric():\n",
    "        print('ERROR')\n",
    "\n",
    "    return (float(minutes) * 60 + float(seconds))\n",
    "    \n",
    "def convertTime(filename):\n",
    "    if '.txt' not in filename:\n",
    "        filename = filename + '.txt'\n",
    "    x = pd.read_csv(filename, sep='\\t', header=None)\n",
    "    x[1] = x[1].apply(timing)\n",
    "    x.to_csv(filename, header=False, index=False, sep='\\t')     \n",
    "    \n",
    "# Summing the time with index and mem to one file\n",
    "def addTime(filename):\n",
    "    # Read files\n",
    "    x = pd.read_csv(filename + \"Index.txt\", sep='\\t', header=None)\n",
    "    y = pd.read_csv(filename + \"Mem.txt\", sep='\\t', header=None)\n",
    "    \n",
    "    # Convert and add times\n",
    "    x[1] = x[1].apply(timing)\n",
    "    y[1] = y[1].apply(timing)\n",
    "    x[1] = x[1] + y[1]\n",
    "    \n",
    "    # Write to file\n",
    "    x.to_csv(filename + '.txt', header=False, index=False, sep='\\t') \n",
    "    \n",
    "def convertSec(filename):\n",
    "    if '.txt' not in filename:\n",
    "        filename = filename + '.txt'\n",
    "    x = pd.read_csv(filename, sep='\\t', header=None)\n",
    "    x[1] = x[1].apply(timing)\n",
    "    return x[1][0]\n",
    "    \n",
    "def addSec(filename):\n",
    "    # Read files\n",
    "    x = pd.read_csv(filename + \"Index.txt\", sep='\\t', header=None)\n",
    "    y = pd.read_csv(filename + \"Mem.txt\", sep='\\t', header=None)\n",
    "    # Convert and add times\n",
    "    x[1] = x[1].apply(timing)\n",
    "    y[1] = y[1].apply(timing)\n",
    "    x[1] = x[1] + y[1]\n",
    "    return x[1][0]"
   ]
  },
  {
   "cell_type": "code",
   "execution_count": 42,
   "id": "ed21bf42",
   "metadata": {},
   "outputs": [
    {
     "data": {
      "text/plain": [
       "0.632"
      ]
     },
     "execution_count": 42,
     "metadata": {},
     "output_type": "execute_result"
    }
   ],
   "source": [
    "# Initiallize the values total time\n",
    "bwt = [0 for i in range(5)]\n",
    "sw = [0 for j in range(5)]\n",
    "bwa = [0 for k in range(5)]\n"
   ]
  },
  {
   "cell_type": "markdown",
   "id": "d9325e97",
   "metadata": {},
   "source": [
    "### Short"
   ]
  },
  {
   "cell_type": "code",
   "execution_count": 12,
   "id": "51112444",
   "metadata": {},
   "outputs": [
    {
     "name": "stdout",
     "output_type": "stream",
     "text": [
      "short.fa\n",
      ">chr1\n",
      "TGCAA\n",
      "\n",
      "short.fq\n",
      "@Sample1\n",
      "TCAT\n",
      "+\n",
      "!1=D"
     ]
    }
   ],
   "source": [
    "# Peak at short reference and read\n",
    "print('short.fa')\n",
    "!head benchmark/testfiles/short.fa\n",
    "print('\\n\\nshort.fq')\n",
    "!head benchmark/testfiles/short.fq"
   ]
  },
  {
   "cell_type": "code",
   "execution_count": 44,
   "id": "8be7fa2e",
   "metadata": {},
   "outputs": [],
   "source": [
    "%%capture\n",
    "# Bwt\n",
    "!{ time python bwamin.py --index --bwt --fa benchmark/testfiles/short.fa \\\n",
    "  2> sleep.stderr ;} 2> benchmark/testfiles/bwaminBwtShortTimeIndex.txt\n",
    "!{ time python bwamin.py --mem --bwt --fa benchmark/testfiles/short.fa \\\n",
    "  --fq benchmark/testfiles/short.fq -out benchmark/testfiles/bwtshort.sam \\\n",
    "  2> sleep.stderr ;} 2> benchmark/testfiles/bwaminBwtShortTimeMem.txt\n",
    "bwt[0] = addSec('benchmark/testfiles/bwaminBwtShortTime')\n",
    "\n",
    "# Sw\n",
    "!{ time python bwamin.py --mem --sw --fa benchmark/testfiles/short.fa\\\n",
    "  --fq benchmark/testfiles/short.fq -out benchmark/testfiles/swshort.sam\\\n",
    "  2> sleep.stderr ;} 2> benchmark/testfiles/bwaminSwShortTime.txt\n",
    "sw[0] = convertSec('benchmark/testfiles/bwaminSwShortTime.txt')\n",
    "\n",
    "# Bwa\n",
    "!{ time bwa index benchmark/testfiles/short.fa \\\n",
    "  2> sleep.stderr ;} 2> benchmark/testfiles/bwaShortTimeIndex.txt\n",
    "!{ time bwa mem benchmark/testfiles/short.fa \\\n",
    "  benchmark/testfiles/short.fq > benchmark/testfiles/bwashort.sam\\\n",
    "  2> sleep.stderr ;} 2> benchmark/testfiles/bwaShortTimeMem.txt\n",
    "bwa[0] = addSec('benchmark/testfiles/bwaShortTime')"
   ]
  },
  {
   "cell_type": "code",
   "execution_count": 46,
   "id": "8c5e39c5",
   "metadata": {},
   "outputs": [
    {
     "name": "stdout",
     "output_type": "stream",
     "text": [
      "Bwt\n",
      "real\t1.721\n",
      "user\t1.116\n",
      "sys\t0.362\n",
      "\n",
      "Sw\n",
      "\n",
      "real\t0m0.724s\n",
      "user\t0m0.544s\n",
      "sys\t0m0.169s\n",
      "\n",
      "Bwa\n",
      "real\t0.033\n",
      "user\t0.006\n",
      "sys\t0.013\n"
     ]
    }
   ],
   "source": [
    "# Print Short Results\n",
    "print('Bwt')\n",
    "!cat benchmark/testfiles/bwaminBwtShortTime.txt\n",
    "print('\\nSw')\n",
    "!cat benchmark/testfiles/bwaminSwShortTime.txt\n",
    "print('\\nBwa')\n",
    "!cat benchmark/testfiles/bwaShortTime.txt"
   ]
  },
  {
   "cell_type": "markdown",
   "id": "98db58da",
   "metadata": {},
   "source": [
    "## Medium"
   ]
  },
  {
   "cell_type": "code",
   "execution_count": 15,
   "id": "4f67f320",
   "metadata": {},
   "outputs": [
    {
     "name": "stdout",
     "output_type": "stream",
     "text": [
      "testfastring.fa\n",
      ">chr1\n",
      "ATCCTATATTACGACTTTGGCAGGGGGTTCGCAAGTCCCACCCCAAACGATGCTGAAGGCTCAGGTTACACAGGCACAAGTACTATATATACGAGTTCCCGCTCTTAACCTGGATCGAATGCAGAATCATGCATCGTACCACTGTGTTCGTGTCATCTAGGACGGGCGCAAAGGATATATAATTCAATTAAGAATACCTTATATTATTGTACACCTACCGGTCACCAGCCAACAATGTGCGGATGGCGTT\n",
      ">chr2\n",
      "ACGACTTACTGGGCCTGATCTCACCGCTTTAGATACCGCACACTGGGCAATACGAGGTAAAGCCAGTCACCCAGTGTCGATCAACAGCTAACGTAACGGTAAGAGGCTCACAAAATCGCACTGTCGGCGTCCCTTGGGTATTTTACGTTAGCATCAGGTGGACTAGCATGAATCTTTACTCCCAGGCGAAAACGGGTGCGTGGACAAGCGAGCAGCAAACGAAAATTCTTGGCCTGCTTGGTGTCTCGTA\n",
      "\n",
      "testfqstring.fq\n",
      "@SRR5077691.13\n",
      "NTGAAAAGATGTCTCCTTCTGTAAGTCAGAACAAAAAACTTTAATTAACT\n",
      "+\n",
      "!1=DDFFFHHHHGJJJJJJJJIJJJIIIJIHGIJJJJJJJJJFHHIJIJI\n",
      "@SRR5077691.79\n",
      "GTTTCATTGTGTCTTTATTTCCTGTATTAATGAGATGGGATATGAAGTCT\n",
      "+\n",
      "JJJJJJJIJJIJJJJJJJJIHJJJJJJJJJJJJJJJJHHHHHFFFFF@CB\n",
      "@SRR5077691.32\n",
      "GCCGTGTGCCCCCTCTTGGGTGACACCCCACCCCACCCTTATTTGCATCN\n"
     ]
    }
   ],
   "source": [
    "# Peak at medium reference and read\n",
    "print('testfastring.fa')\n",
    "!head benchmark/testfiles/testfastring.fa\n",
    "print('\\n\\ntestfqstring.fq')\n",
    "!head benchmark/testfiles/testfqstring.fq"
   ]
  },
  {
   "cell_type": "code",
   "execution_count": 47,
   "id": "c57e8276",
   "metadata": {},
   "outputs": [],
   "source": [
    "%%capture\n",
    "# Bwt\n",
    "!{ time python bwamin.py --index --bwt --fa benchmark/testfiles/testfastring.fa 2> sleep.stderr ;} 2> benchmark/testfiles/bwaminBwtMedTimeIndex.txt\n",
    "!{ time python bwamin.py --mem --bwt --fa benchmark/testfiles/testfastring.fa --fq benchmark/testfiles/testfqstring.fq -out benchmark/testfiles/bwttest.sam 2> sleep.stderr ;} 2> benchmark/testfiles/bwaminBwtMedTimeMem.txt\n",
    "bwt[1] = addSec('benchmark/testfiles/bwaminBwtMedTime')\n",
    "\n",
    "# Sw\n",
    "!{ time python bwamin.py --mem --sw\\\n",
    "  --fa benchmark/testfiles/testfastring.fa\\\n",
    "  --fq benchmark/testfiles/testfqstring.fq \\\n",
    "  -out benchmark/testfiles/swtest.sam \\\n",
    "  2> sleep.stderr ;} 2> benchmark/testfiles/bwaminSwMedTime.txt\n",
    "sw[1] = convertSec('benchmark/testfiles/bwaminSwMedTime.txt')\n",
    "\n",
    "# Bwa\n",
    "!{ time bwa index benchmark/testfiles/testfastring.fa 2> sleep.stderr ;} 2> benchmark/testfiles/bwaMedTimeIndex.txt\n",
    "!{ time bwa mem benchmark/testfiles/testfastring.fa\\\n",
    "  benchmark/testfiles/testfqstring.fq > benchmark/testfiles/bwatest.sam 2> sleep.stderr ;} 2> benchmark/testfiles/bwaMedTimeMem.txt\n",
    "bwa[1] = addSec('benchmark/testfiles/bwaMedTime')"
   ]
  },
  {
   "cell_type": "code",
   "execution_count": 48,
   "id": "9447d010",
   "metadata": {},
   "outputs": [
    {
     "name": "stdout",
     "output_type": "stream",
     "text": [
      "Bwt\n",
      "real\t1.3860000000000001\n",
      "user\t1.02\n",
      "sys\t0.295\n",
      "\n",
      "Sw\n",
      "\n",
      "real\t0m1.132s\n",
      "user\t0m0.975s\n",
      "sys\t0m0.143s\n",
      "\n",
      "Bwa\n",
      "real\t0.043\n",
      "user\t0.007\n",
      "sys\t0.014\n"
     ]
    }
   ],
   "source": [
    "# Print Medium Results\n",
    "print('Bwt')\n",
    "!cat benchmark/testfiles/bwaminBwtMedTime.txt\n",
    "print('\\nSw')\n",
    "!cat benchmark/testfiles/bwaminSwMedTime.txt\n",
    "print('\\nBwa')\n",
    "!cat benchmark/testfiles/bwaMedTime.txt"
   ]
  },
  {
   "cell_type": "markdown",
   "id": "594c1526",
   "metadata": {},
   "source": [
    "### Long"
   ]
  },
  {
   "cell_type": "markdown",
   "id": "bb08c3f1",
   "metadata": {},
   "source": [
    "This is an Ebola Virus found using sra."
   ]
  },
  {
   "cell_type": "code",
   "execution_count": 52,
   "id": "04339495",
   "metadata": {},
   "outputs": [
    {
     "name": "stdout",
     "output_type": "stream",
     "text": [
      "SRR10769501.fasta.fixed\n",
      ">@SRR10769501.1.1 M02486:32:000000000-BTHFB:1:1101:16201:1720 length=160\n",
      "GCCGTAGCCCTGCTCGCCAGCGCGTAGCGGTGTCGTTTCCGTAGCGTCATCTTCGTCATCATTATTTCCAGTGGGTTCCTCGTTTTCACTCGCATTCGTGTCTTCGTCTTCCACCTTGCGAACAAAGTCTTTCTTCCCCCGGATCGCAAAGAGCTCCAGC\n",
      ">@SRR10769501.2.1 M02486:32:000000000-BTHFB:1:1101:21365:1807 length=160\n",
      "GGGCTTCACGGGCTTGCGGCGTTTCCACGCCGTGGTCAACGGCGTTGCGCAGCAGGTGGCCCAGCGGGGCATCGAGCATCTGTCTCTTATACACATCTCCGACCCCACTCTACAGGCACAAATCTCCTATTCCGTCTTCTTCTTTAAAACAAAAACCCCC\n",
      "\n",
      "\n",
      "SRR10769501.fastq\n",
      "@SRR10769501.1.1 M02486:32:000000000-BTHFB:1:1101:16201:1720 length=160\n",
      "GCCGTAGCCCTGCTCGCCAGCGCGTAGCGGTGTCGTTTCCGTAGCGTCATCTTCGTCATCATTATTTCCAGTGGGTTCCTCGTTTTCACTCGCATTCGTGTCTTCGTCTTCCACCTTGCGAACAAAGTCTTTCTTCCCCCGGATCGCAAAGAGCTCCAGC\n",
      "+SRR10769501.1.1 M02486:32:000000000-BTHFB:1:1101:16201:1720 length=160\n",
      "????????????????????????????????????????????????????????????????????????????????????????????????????????????????????????????????????????????????????????????????\n"
     ]
    }
   ],
   "source": [
    "# Peak at long reference and read\n",
    "print('SRR10769501.fasta.fixed')\n",
    "!head -n 4 benchmark/mydata/SRR10769501.fasta.fixed\n",
    "print('\\n\\nSRR10769501.fastq')\n",
    "!head -n 4 benchmark/mydata/SRR10769501.fastq"
   ]
  },
  {
   "cell_type": "code",
   "execution_count": 30,
   "id": "b794657f",
   "metadata": {},
   "outputs": [],
   "source": [
    "%%capture\n",
    "# Bwt\n",
    "# Note file too big will not run\n",
    "# !{ time python bwamin.py --index --bwt\\\n",
    "#   --fa benchmark/mydata/SRR10769501.fasta.fixed \\\n",
    "#   2> sleep.stderr ;} \\\n",
    "#   2> benchmark/mydata/bwaminBwtLongTimeIndex.txt\n",
    "# !{ time python bwamin.py --mem --bwt\\\n",
    "#   --fa benchmark/mydata/SRR10769501.fasta.fixed\\\n",
    "#   --fq benchmark/mydata/SRR10769501.fastq \\\n",
    "#   2> sleep.stderr ;} \\\n",
    "#   2> benchmark/mydata/bwaminBwtLongTimeMem.txt\n",
    "# addTime('benchmark/mydata/bwaminBwtLongTime')\n",
    "\n"
   ]
  },
  {
   "cell_type": "code",
   "execution_count": null,
   "id": "0a0c0164",
   "metadata": {},
   "outputs": [],
   "source": [
    "%%capture\n",
    "# NOTE: This process will be killed even with 48GB, Don't run\n",
    "# Sw\n",
    "# !{ time python bwamin.py --mem --sw\\\n",
    "#   --fa benchmark/mydata/SRR10769501.fasta.fixed\\\n",
    "#   --fq benchmark/mydata/SRR10769501.fastq -out swlong.sam\\\n",
    "#   2> sleep.stderr ;} 2> benchmark/mydata/bwaminSwLongTime.txt\n",
    "# convertTime('benchmark/mydata/bwaminSwLongTime.txt')"
   ]
  },
  {
   "cell_type": "code",
   "execution_count": 50,
   "id": "8c07b636",
   "metadata": {},
   "outputs": [],
   "source": [
    "%%capture\n",
    "# Bwa\n",
    "!{ time bwa index benchmark/mydata/SRR10769501.fasta.fixed \\\n",
    "  2> sleep.stderr ;} 2> benchmark/mydata/bwaLongTimeIndex.txt\n",
    "!{ time bwa mem benchmark/mydata/SRR10769501.fasta.fixed\\\n",
    "  benchmark/mydata/SRR10769501.fastq > benchmark/mydata/bwalong.sam\\\n",
    "  2> sleep.stderr ;} 2> benchmark/mydata/bwaLongTimeMem.txt\n",
    "bwa[2] = addSec('benchmark/mydata/bwaLongTime')"
   ]
  },
  {
   "cell_type": "code",
   "execution_count": 28,
   "id": "260b398e",
   "metadata": {},
   "outputs": [
    {
     "name": "stdout",
     "output_type": "stream",
     "text": [
      "Bwt\n",
      "cat: benchmark/mydata/bwaminBwtLongTime.txt: No such file or directory\n",
      "\n",
      "Sw\n",
      "cat: benchmark/mydata/bwaminSwLongTime.txt: No such file or directory\n",
      "\n",
      "Bwa\n",
      "real\t12.486\n",
      "user\t11.892\n",
      "sys\t0.307\n"
     ]
    }
   ],
   "source": [
    "#Print Short Results\n",
    "print('Bwt')\n",
    "!cat benchmark/mydata/bwaminBwtLongTime.txt\n",
    "print('\\nSw')\n",
    "!cat benchmark/mydata/bwaminSwLongTime.txt\n",
    "print('\\nBwa')\n",
    "!cat benchmark/mydata/bwaLongTime.txt"
   ]
  },
  {
   "cell_type": "markdown",
   "id": "6fb8ed5b",
   "metadata": {},
   "source": [
    "## Ebola Virus "
   ]
  },
  {
   "cell_type": "markdown",
   "id": "41d0aa5b",
   "metadata": {},
   "source": [
    "I found a smaller one with only 19kbases"
   ]
  },
  {
   "cell_type": "code",
   "execution_count": 34,
   "id": "a4b89f10",
   "metadata": {},
   "outputs": [],
   "source": [
    "# SRR10083456.fastq\n",
    "#bwt\n",
    "!{ time python bwamin.py --index --bwt\\\n",
    "  --fa benchmark/mydata/SRR10083456.fasta \\\n",
    "  2> sleep.stderr ;} \\\n",
    "  2> benchmark/mydata/bwaminBwtEbolaTimeIndex.txt\n",
    "\n",
    "!{ time python bwamin.py --mem --bwt\\\n",
    "  --fa benchmark/mydata/SRR10083456.fastq\\\n",
    "  --fq benchmark/mydata/SRR10083456.fastq \\\n",
    "  -out benchmark/mydata/bwtebola.sam 2> sleep.stderr ;} \\\n",
    "  2> benchmark/mydata/bwaminBwtEbolaTimeMem.txt\n",
    "bwt[3] = addSec('benchmark/mydata/bwaminBwtEbolaTime')"
   ]
  },
  {
   "cell_type": "code",
   "execution_count": null,
   "id": "c60c3a7e",
   "metadata": {},
   "outputs": [],
   "source": [
    "# Sw\n",
    "!{ time python bwamin.py --mem --sw\\\n",
    "  --fa benchmark/mydata/SRR10083456.fasta\\\n",
    "  --fq benchmark/mydata/SRR10083456.fastq -out swebola.sam\\\n",
    "  2> sleep.stderr ;} 2> benchmark/mydata/bwaminSwEbolaTime.txt\n",
    "sw[3] = convertSec('benchmark/mydata/bwaminSwEbolaTime.txt')"
   ]
  },
  {
   "cell_type": "code",
   "execution_count": null,
   "id": "65ab4b17",
   "metadata": {},
   "outputs": [],
   "source": [
    "%%capture\n",
    "# Bwa\n",
    "!{ time bwa index benchmark/mydata/SRR10083456.fasta \\\n",
    "  2> sleep.stderr ;} 2> benchmark/mydata/bwaEbolaTimeIndex.txt\n",
    "\n",
    "!{ time bwa mem benchmark/mydata/SRR10083456.fasta\\\n",
    "  benchmark/mydata/SRR10083456.fastq > benchmark/mydata/bwaebola.sam\\\n",
    "  2> sleep.stderr ;} 2> benchmark/mydata/bwaEbolaTimeMem.txt\n",
    "bwa[3] = addSec('benchmark/mydata/bwaEbolaTime')"
   ]
  },
  {
   "cell_type": "code",
   "execution_count": null,
   "id": "18fa46ad",
   "metadata": {},
   "outputs": [],
   "source": [
    "#Print Ebola Results\n",
    "print('Bwt')\n",
    "!cat benchmark/mydata/bwaminBwtEbolaTime.txt\n",
    "print('\\nSw')\n",
    "!cat benchmark/mydata/bwaminSwEbolaTime.txt\n",
    "print('\\nBwa')\n",
    "!cat benchmark/mydata/bwaEbolaTime.txt"
   ]
  },
  {
   "cell_type": "markdown",
   "id": "20871775",
   "metadata": {},
   "source": [
    "### In-Class sample\n",
    "We have chromsome 17 from a mouse as the reference and the reads come from Sox2. This was found in lab 5."
   ]
  },
  {
   "cell_type": "markdown",
   "id": "8339fc4c",
   "metadata": {},
   "source": [
    "Note: Just like in the Long section, BWT and SW will not run to completion due to low memory. They both get killed in the process."
   ]
  },
  {
   "cell_type": "markdown",
   "id": "10509d48",
   "metadata": {},
   "source": [
    "### Graphs"
   ]
  },
  {
   "cell_type": "markdown",
   "id": "5a75dae6",
   "metadata": {},
   "source": [
    "## Artificial Genome Testing"
   ]
  },
  {
   "cell_type": "code",
   "execution_count": null,
   "id": "9a0f1269",
   "metadata": {},
   "outputs": [],
   "source": []
  },
  {
   "cell_type": "markdown",
   "id": "abc5b831",
   "metadata": {},
   "source": [
    "## Conclusion\n"
   ]
  }
 ],
 "metadata": {
  "kernelspec": {
   "display_name": "Python 3 (ipykernel)",
   "language": "python",
   "name": "python3"
  },
  "language_info": {
   "codemirror_mode": {
    "name": "ipython",
    "version": 3
   },
   "file_extension": ".py",
   "mimetype": "text/x-python",
   "name": "python",
   "nbconvert_exporter": "python",
   "pygments_lexer": "ipython3",
   "version": "3.10.9"
  }
 },
 "nbformat": 4,
 "nbformat_minor": 5
}
