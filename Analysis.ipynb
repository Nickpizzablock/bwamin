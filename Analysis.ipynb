{
 "cells": [
  {
   "cell_type": "markdown",
   "id": "a4f87191",
   "metadata": {},
   "source": [
    "# Bwamin Vs Bwa Analysis"
   ]
  },
  {
   "cell_type": "markdown",
   "id": "06c438cc",
   "metadata": {},
   "source": [
    "Here, I will discuss and show the accuracy of the bwamin --bwt and bwamin --sw vs bwa.\n",
    "We will be reading the samfile to analize their accuracy."
   ]
  },
  {
   "cell_type": "markdown",
   "id": "06074845",
   "metadata": {},
   "source": [
    "Comparing the Output"
   ]
  },
  {
   "cell_type": "code",
   "execution_count": 4,
   "id": "ad1d39bf",
   "metadata": {},
   "outputs": [
    {
     "name": "stdout",
     "output_type": "stream",
     "text": [
      "@SQ\tSN:chr1\tLN:5\tAS:\n",
      "@HD\tVN:1.5\tSO:unsorted\tGO:query\n",
      "@PG\tID:bwamin\tPN:bwamin\tVN:0.001-alpha\tCL:python bwamin.py --mem --bwt --fa benchmark/testfiles/short.fa --fq benchmark/testfiles/short.fq -out benchmark/testfiles/bwtshort.sam\n",
      "Sample1\t4\t*\t0\t0\t*\t*\t0\t0\tTCAT\t!1=D\n",
      "\n",
      "@SQ\tSN:chr1\tLN:5\tAS:\n",
      "@HD\tVN:1.5\tSO:unsorted\tGO:query\n",
      "@PG\tID:bwamin\tPN:bwamin\tVN:0.001-alpha\tCL:python bwamin.py --mem --sw --fa benchmark/testfiles/short.fa --fq benchmark/testfiles/short.fq -out benchmark/testfiles/swshort.sam\n",
      "Sample1\t0\tchr1\t1\t5\t2M\t*\t0\t0\tTCAT\t!1=D\n",
      "\n",
      "@SQ\tSN:chr1\tLN:5\n",
      "@HD\tVN:1.5\tSO:unsorted\tGO:query\n",
      "@PG\tID:bwa\tPN:bwa\tVN:0.7.17-r1198-dirty\tCL:bwa mem benchmark/testfiles/short.fa benchmark/testfiles/short.fq\n",
      "Sample1\t4\t*\t0\t0\t*\t*\t0\t0\tTCAT\t!1=D\tAS:i:0\tXS:i:0\n"
     ]
    }
   ],
   "source": [
    "# Print the files\n",
    "!head -n 8 benchmark/testfiles/bwtshort.sam\n",
    "print()\n",
    "!head -n 8 benchmark/testfiles/swshort.sam\n",
    "print()\n",
    "!head -n 8 benchmark/testfiles/bwashort.sam"
   ]
  },
  {
   "cell_type": "markdown",
   "id": "a51aeb20",
   "metadata": {},
   "source": [
    "There are small differences in the output file. \n",
    "\n",
    "The `AS:` is extra, but it should not matter towards the reading of the samfile.\n",
    "\n",
    "The `AS` and `XS` are also extra. According to the samfile documentation, this is recommended, but not necessarily necessary.\n",
    "\n",
    "Another observation is that the `SW` always makes an output while `BWT` and `BWA` does not print a match every time."
   ]
  },
  {
   "cell_type": "code",
   "execution_count": 9,
   "id": "cc99b537",
   "metadata": {},
   "outputs": [
    {
     "name": "stdout",
     "output_type": "stream",
     "text": [
      "SRR5077691.206\t4\t*\t0\t0\t*\t*\t0\t0\tGTTCTTATTGGACTCAGTAAGGCAAACTAAATAGGATCCGAGTCGAGGCT\tJJJJJJJJJJJIIJJJJJJJJJJJJIJJJJJJJJJJIHHHHHFFFFFCCC\n",
      "SRR5077691.212\t0\tchr2\t128\t60\t50M\trnext\tpnext\ttlen\tGTCCCTTGGGTATTTTACGTTAGCATCAGGTGGACTAGCATGAATCTTTA\tJIIIJJJJIJJJJGJJJIJJJJIJJIJJJJJIJJJJJHHHHHFFFFFCBC\n",
      "\n",
      "SRR5077691.206\t0\tchr2\t21\t47\t11M\t*\t0\t0\tGTTCTTATTGGACTCAGTAAGGCAAACTAAATAGGATCCGAGTCGAGGCT\tJJJJJJJJJJJIIJJJJJJJJJJJJIJJJJJJJJJJIHHHHHFFFFFCCC\n",
      "SRR5077691.212\t0\tchr2\t0\t60\t46MD2M2DM3DM2D\t*\t0\t0\tGTCCCTTGGGTATTTTACGTTAGCATCAGGTGGACTAGCATGAATCTTTA\tJIIIJJJJIJJJJGJJJIJJJJIJJIJJJJJIJJJJJHHHHHFFFFFCBC\n",
      "\n",
      "SRR5077691.206\t4\t*\t0\t0\t*\t*\t0\t0\tGTTCTTATTGGACTCAGTAAGGCAAACTAAATAGGATCCGAGTCGAGGCT\tJJJJJJJJJJJIIJJJJJJJJJJJJIJJJJJJJJJJIHHHHHFFFFFCCC\tAS:i:0\tXS:i:0\n",
      "SRR5077691.212\t0\tchr2\t129\t60\t50M\t*\t0\t0\tGTCCCTTGGGTATTTTACGTTAGCATCAGGTGGACTAGCATGAATCTTTA\tJIIIJJJJIJJJJGJJJIJJJJIJJIJJJJJIJJJJJHHHHHFFFFFCBC\tNM:i:0\tMD:Z:50\tAS:i:50\tXS:i:0\n"
     ]
    }
   ],
   "source": [
    "# Print the files\n",
    "!tail -n 2 benchmark/testfiles/bwttest.sam\n",
    "print()\n",
    "!tail -n 2 benchmark/testfiles/swtest.sam\n",
    "print()\n",
    "!tail -n 2 benchmark/testfiles/bwatest.sam"
   ]
  },
  {
   "cell_type": "markdown",
   "id": "000a3a05",
   "metadata": {},
   "source": [
    "Looking at the last outputs of the *test.sam files, we can see that `BWT` found a match, so we can compare the read outputs.\n",
    "\n",
    "The CIGAR strings of the `BWT` and `BWA` are the same while `SW` leads on to more mismatches.\n",
    "\n",
    "Overall, the output style is very similar.\n"
   ]
  },
  {
   "cell_type": "code",
   "execution_count": null,
   "id": "68144ff1",
   "metadata": {},
   "outputs": [],
   "source": []
  }
 ],
 "metadata": {
  "kernelspec": {
   "display_name": "Python 3 (ipykernel)",
   "language": "python",
   "name": "python3"
  },
  "language_info": {
   "codemirror_mode": {
    "name": "ipython",
    "version": 3
   },
   "file_extension": ".py",
   "mimetype": "text/x-python",
   "name": "python",
   "nbconvert_exporter": "python",
   "pygments_lexer": "ipython3",
   "version": "3.9.5"
  }
 },
 "nbformat": 4,
 "nbformat_minor": 5
}
