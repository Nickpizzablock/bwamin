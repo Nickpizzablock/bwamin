{
 "cells": [
  {
   "cell_type": "markdown",
   "id": "a4f87191",
   "metadata": {},
   "source": [
    "# Bwamin Vs Bwa Analysis"
   ]
  },
  {
   "cell_type": "markdown",
   "id": "06c438cc",
   "metadata": {},
   "source": [
    "Here, I will discuss and show the accuracy of the bwamin --bwt and bwamin --sw vs bwa.\n",
    "We will be using IGV to analyze the resultant files."
   ]
  },
  {
   "cell_type": "markdown",
   "id": "de99cb40",
   "metadata": {},
   "source": [
    "## Limitations of Bwamin --bwt\n",
    "- \n",
    "\n"
   ]
  },
  {
   "cell_type": "code",
   "execution_count": null,
   "id": "354a8cf3",
   "metadata": {},
   "outputs": [],
   "source": []
  }
 ],
 "metadata": {
  "kernelspec": {
   "display_name": "Python 3 (ipykernel)",
   "language": "python",
   "name": "python3"
  },
  "language_info": {
   "codemirror_mode": {
    "name": "ipython",
    "version": 3
   },
   "file_extension": ".py",
   "mimetype": "text/x-python",
   "name": "python",
   "nbconvert_exporter": "python",
   "pygments_lexer": "ipython3",
   "version": "3.10.9"
  }
 },
 "nbformat": 4,
 "nbformat_minor": 5
}
