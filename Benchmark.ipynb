{
 "cells": [
  {
   "cell_type": "markdown",
   "id": "e2f84bba",
   "metadata": {},
   "source": [
    "# Bwamin VS BWA Benchmark"
   ]
  },
  {
   "cell_type": "markdown",
   "id": "bceab478",
   "metadata": {},
   "source": [
    "Note: Bwamin --mem --sw will fail for Large + files. DO NOT RUN!"
   ]
  },
  {
   "cell_type": "markdown",
   "id": "0c73f55b",
   "metadata": {},
   "source": [
    "## Table of Contents\n",
    "Note: Click to jump to section\n",
    "1. [Installation Check](#installation)\n",
    "2. [Time Section](#time)\n",
    "    1. BWT\n",
    "    2. SW\n",
    "    3. BWA\n",
    "    4. Graphs\n",
    "3. [Memory Section](#memory)\n",
    "    1. BWT\n",
    "    2. SW\n",
    "    3. BWA\n",
    "    4. Graphs\n",
    "4. [Conclusions](#conclusions)"
   ]
  },
  {
   "cell_type": "markdown",
   "id": "780eaf2c",
   "metadata": {},
   "source": [
    "## Installation Check <a name=\"installation\"></a>"
   ]
  },
  {
   "cell_type": "code",
   "execution_count": 1,
   "id": "0e8cfcda",
   "metadata": {},
   "outputs": [
    {
     "name": "stderr",
     "output_type": "stream",
     "text": [
      "UsageError: Line magic function `%%capture` not found.\n"
     ]
    }
   ],
   "source": [
    "# Run this cell to make capture small again\n",
    "%%capture\n",
    "!echo hi"
   ]
  },
  {
   "cell_type": "markdown",
   "id": "03fb0ebe",
   "metadata": {},
   "source": [
    "Let's check if BWA and Bwamin are installed"
   ]
  },
  {
   "cell_type": "code",
   "execution_count": 2,
   "id": "9196ac9f",
   "metadata": {},
   "outputs": [
    {
     "name": "stdout",
     "output_type": "stream",
     "text": [
      "\r\n",
      "Program: bwa (alignment via Burrows-Wheeler transformation)\r\n",
      "Version: 0.7.17-r1198-dirty\r\n",
      "Contact: Heng Li <hli@ds.dfci.harvard.edu>\r\n",
      "\r\n",
      "Usage:   bwa <command> [options]\r\n",
      "\r\n",
      "Command: index         index sequences in the FASTA format\r\n",
      "         mem           BWA-MEM algorithm\r\n",
      "         fastmap       identify super-maximal exact matches\r\n",
      "         pemerge       merge overlapping paired ends (EXPERIMENTAL)\r\n",
      "         aln           gapped/ungapped alignment\r\n",
      "         samse         generate alignment (single ended)\r\n",
      "         sampe         generate alignment (paired ended)\r\n",
      "         bwasw         BWA-SW for long queries (DEPRECATED)\r\n",
      "\r\n",
      "         shm           manage indices in shared memory\r\n",
      "         fa2pac        convert FASTA to PAC format\r\n",
      "         pac2bwt       generate BWT from PAC\r\n",
      "         pac2bwtgen    alternative algorithm for generating BWT\r\n",
      "         bwtupdate     update .bwt to the new format\r\n",
      "         bwt2sa        generate SA from BWT and Occ\r\n",
      "\r\n",
      "Note: To use BWA, you need to first index the genome with `bwa index'.\r\n",
      "      There are three alignment algorithms in BWA: `mem', `bwasw', and\r\n",
      "      `aln/samse/sampe'. If you are not sure which to use, try `bwa mem'\r\n",
      "      first. Please `man ./bwa.1' for the manual.\r\n",
      "\r\n"
     ]
    }
   ],
   "source": [
    "!bwa"
   ]
  },
  {
   "cell_type": "code",
   "execution_count": 3,
   "id": "2f2be184",
   "metadata": {},
   "outputs": [
    {
     "name": "stdout",
     "output_type": "stream",
     "text": [
      "usage: bwamin.py [-h] [--index] [--mem] [--bwt] [--sw] [--fasta FASTA]\r\n",
      "                 [--fastq FASTQ] [-A A] [-B B] [-O O] [-E E]\r\n",
      "\r\n",
      "minimum bwa\r\n",
      "\r\n",
      "optional arguments:\r\n",
      "  -h, --help            show this help message and exit\r\n",
      "  --index               index a fasta file\r\n",
      "  --mem                 index a fasta file\r\n",
      "  --bwt                 enables Burrow-Wheeler Transform search\r\n",
      "  --sw                  enables Smith-Waterman search\r\n",
      "  --fasta FASTA, --fa FASTA\r\n",
      "                        fasta input\r\n",
      "  --fastq FASTQ, --fq FASTQ\r\n",
      "                        fastq input\r\n",
      "  -A A                  Matching score. [1]\r\n",
      "  -B B                  Mismatch penalty. The sequence error rate is\r\n",
      "                        approximately: {.75 * exp[-log(4) * B/A]}. [4]\r\n",
      "  -O O                  Gap open penalty. [6]\r\n",
      "  -E E                  Gap extension penalty. A gap of length k costs O + k*E\r\n",
      "                        (i.e. -O is for opening a zero-length gap). [1]\r\n"
     ]
    }
   ],
   "source": [
    "!python bwamin.py -h"
   ]
  },
  {
   "cell_type": "markdown",
   "id": "80451e69",
   "metadata": {},
   "source": [
    "## Time Section <a name=\"time\"></a>"
   ]
  },
  {
   "cell_type": "markdown",
   "id": "40cfc392",
   "metadata": {},
   "source": [
    "We will test bwamin bwt, bwamin sw, and bwa on a custom\n",
    "short, and longer files."
   ]
  },
  {
   "cell_type": "code",
   "execution_count": 4,
   "id": "12962065",
   "metadata": {},
   "outputs": [],
   "source": [
    "# Helper commands so we can graph later\n",
    "import pandas as pd\n",
    "import seaborn as sns\n",
    "\n",
    "# Change string to seconds\n",
    "def timing(string):\n",
    "    if type(string) == type(0.01):\n",
    "        return string\n",
    "    elements = string.split('m')\n",
    "    minutes = elements[0]\n",
    "    seconds = elements[1]\n",
    "\n",
    "    seconds = seconds.replace('s', '')\n",
    "    minues = minutes.strip()\n",
    "    seconds = seconds.strip()\n",
    "\n",
    "    if not minutes.isnumeric() or seconds.isnumeric():\n",
    "        print('ERROR')\n",
    "\n",
    "    return (float(minutes) * 60 + float(seconds))\n",
    "    \n",
    "def convertTime(filename):\n",
    "    if '.txt' not in filename:\n",
    "        filename = filename + '.txt'\n",
    "    x = pd.read_csv(filename, sep='\\t', header=None)\n",
    "    x[1] = x[1].apply(timing)\n",
    "    x.to_csv(filename, header=False, index=False, sep='\\t')     \n",
    "    \n",
    "# Summing the time with index and mem to one file\n",
    "def addTime(filename):\n",
    "    # Read files\n",
    "    x = pd.read_csv(filename + \"Index.txt\", sep='\\t', header=None)\n",
    "    y = pd.read_csv(filename + \"Mem.txt\", sep='\\t', header=None)\n",
    "    \n",
    "    # Convert and add times\n",
    "    x[1] = x[1].apply(timing)\n",
    "    y[1] = y[1].apply(timing)\n",
    "    x[1] = x[1] + y[1]\n",
    "    \n",
    "    # Write to file\n",
    "    x.to_csv(filename + '.txt', header=False, index=False, sep='\\t') "
   ]
  },
  {
   "cell_type": "markdown",
   "id": "d9325e97",
   "metadata": {},
   "source": [
    "### Short"
   ]
  },
  {
   "cell_type": "code",
   "execution_count": 5,
   "id": "51112444",
   "metadata": {},
   "outputs": [
    {
     "name": "stdout",
     "output_type": "stream",
     "text": [
      "short.fa\n",
      ">chr1\n",
      "TGCAA\n",
      "\n",
      "short.fq\n",
      "@Sample1\n",
      "TCAT\n",
      "+\n",
      "!1=D"
     ]
    }
   ],
   "source": [
    "# Peak at short reference and read\n",
    "print('short.fa')\n",
    "!head benchmark/testfiles/short.fa\n",
    "print('\\n\\nshort.fq')\n",
    "!head benchmark/testfiles/short.fq"
   ]
  },
  {
   "cell_type": "code",
   "execution_count": 6,
   "id": "8be7fa2e",
   "metadata": {},
   "outputs": [],
   "source": [
    "%%capture\n",
    "# Bwt\n",
    "!{ time python bwamin.py --index --bwt --fa benchmark/testfiles/short.fa \\\n",
    "  2> sleep.stderr ;} 2> benchmark/testfiles/bwaminBwtShortTimeIndex.txt\n",
    "!{ time python bwamin.py --mem --bwt --fa benchmark/testfiles/short.fa --fq benchmark/testfiles/short.fq \\\n",
    "  2> sleep.stderr ;} 2> benchmark/testfiles/bwaminBwtShortTimeMem.txt\n",
    "addTime('benchmark/testfiles/bwaminBwtShortTime')\n",
    "\n",
    "# Sw\n",
    "!{ time python bwamin.py --mem --sw --fa benchmark/testfiles/short.fa --fq benchmark/testfiles/short.fq \\\n",
    "  2> sleep.stderr ;} 2> benchmark/testfiles/bwaminSwShortTime.txt\n",
    "convertTime('benchmark/testfiles/bwaminSwShortTime.txt')\n",
    "\n",
    "# Bwa\n",
    "!{ time bwa index benchmark/testfiles/short.fa \\\n",
    "  2> sleep.stderr ;} 2> benchmark/testfiles/bwaShortTimeIndex.txt\n",
    "!{ time bwa mem benchmark/testfiles/short.fa benchmark/testfiles/short.fq \\\n",
    "  2> sleep.stderr ;} 2> benchmark/testfiles/bwaShortTimeMem.txt\n",
    "addTime('benchmark/testfiles/bwaShortTime')"
   ]
  },
  {
   "cell_type": "code",
   "execution_count": 7,
   "id": "8c5e39c5",
   "metadata": {},
   "outputs": [
    {
     "name": "stdout",
     "output_type": "stream",
     "text": [
      "Bwt\n",
      "real\t0.526\n",
      "user\t0.404\n",
      "sys\t0.112\n",
      "\n",
      "Sw\n",
      "real\t0.255\n",
      "user\t0.214\n",
      "sys\t0.037\n",
      "\n",
      "Bwa\n",
      "real\t0.022\n",
      "user\t0.004\n",
      "sys\t0.012\n"
     ]
    }
   ],
   "source": [
    "# Print Short Results\n",
    "print('Bwt')\n",
    "!cat benchmark/testfiles/bwaminBwtShortTime.txt\n",
    "print('\\nSw')\n",
    "!cat benchmark/testfiles/bwaminSwShortTime.txt\n",
    "print('\\nBwa')\n",
    "!cat benchmark/testfiles/bwaShortTime.txt"
   ]
  },
  {
   "cell_type": "markdown",
   "id": "98db58da",
   "metadata": {},
   "source": [
    "## Medium"
   ]
  },
  {
   "cell_type": "code",
   "execution_count": 8,
   "id": "4f67f320",
   "metadata": {},
   "outputs": [
    {
     "name": "stdout",
     "output_type": "stream",
     "text": [
      "testfastring.fa\n",
      ">chr1\n",
      "ATCCTATATTACGACTTTGGCAGGGGGTTCGCAAGTCCCACCCCAAACGATGCTGAAGGCTCAGGTTACACAGGCACAAGTACTATATATACGAGTTCCCGCTCTTAACCTGGATCGAATGCAGAATCATGCATCGTACCACTGTGTTCGTGTCATCTAGGACGGGCGCAAAGGATATATAATTCAATTAAGAATACCTTATATTATTGTACACCTACCGGTCACCAGCCAACAATGTGCGGATGGCGTT\n",
      ">chr2\n",
      "ACGACTTACTGGGCCTGATCTCACCGCTTTAGATACCGCACACTGGGCAATACGAGGTAAAGCCAGTCACCCAGTGTCGATCAACAGCTAACGTAACGGTAAGAGGCTCACAAAATCGCACTGTCGGCGTCCCTTGGGTATTTTACGTTAGCATCAGGTGGACTAGCATGAATCTTTACTCCCAGGCGAAAACGGGTGCGTGGACAAGCGAGCAGCAAACGAAAATTCTTGGCCTGCTTGGTGTCTCGTA\n",
      "\n",
      "testfqstring.fq\n",
      "@SRR5077691.13\n",
      "NTGAAAAGATGTCTCCTTCTGTAAGTCAGAACAAAAAACTTTAATTAACT\n",
      "+\n",
      "!1=DDFFFHHHHGJJJJJJJJIJJJIIIJIHGIJJJJJJJJJFHHIJIJI\n",
      "@SRR5077691.79\n",
      "GTTTCATTGTGTCTTTATTTCCTGTATTAATGAGATGGGATATGAAGTCT\n",
      "+\n",
      "JJJJJJJIJJIJJJJJJJJIHJJJJJJJJJJJJJJJJHHHHHFFFFF@CB\n",
      "@SRR5077691.32\n",
      "GCCGTGTGCCCCCTCTTGGGTGACACCCCACCCCACCCTTATTTGCATCN\n"
     ]
    }
   ],
   "source": [
    "# Peak at medium reference and read\n",
    "print('testfastring.fa')\n",
    "!head benchmark/testfiles/testfastring.fa\n",
    "print('\\n\\ntestfqstring.fq')\n",
    "!head benchmark/testfiles/testfqstring.fq"
   ]
  },
  {
   "cell_type": "code",
   "execution_count": 9,
   "id": "c57e8276",
   "metadata": {},
   "outputs": [],
   "source": [
    "%%capture\n",
    "# Bwt\n",
    "!{ time python bwamin.py --index --bwt\\\n",
    "  --fa benchmark/testfiles/testfastring.fa \\\n",
    "  2> sleep.stderr ;} \\\n",
    "  2> benchmark/testfiles/bwaminBwtMedTimeIndex.txt\n",
    "!{ time python bwamin.py --mem --bwt\\\n",
    "  --fa benchmark/testfiles/testfastring.fa\\\n",
    "  --fq benchmark/testfiles/testfqstring.fq \\\n",
    "  2> sleep.stderr ;} \\\n",
    "  2> benchmark/testfiles/bwaminBwtMedTimeMem.txt\n",
    "addTime('benchmark/testfiles/bwaminBwtMedTime')\n",
    "\n",
    "# Sw\n",
    "!{ time python bwamin.py --mem --sw\\\n",
    "  --fa benchmark/testfiles/testfastring.fa\\\n",
    "  --fq benchmark/testfiles/testfqstring.fq \\\n",
    "  2> sleep.stderr ;} 2> benchmark/testfiles/bwaminSwMedTime.txt\n",
    "convertTime('benchmark/testfiles/bwaminSwMedTime.txt')\n",
    "\n",
    "# Bwa\n",
    "!{ time bwa index benchmark/testfiles/testfastring.fa \\\n",
    "  2> sleep.stderr ;} 2> benchmark/testfiles/bwaMedTimeIndex.txt\n",
    "!{ time bwa mem benchmark/testfiles/testfastring.fa\\\n",
    "  benchmark/testfiles/testfqstring.fq \\\n",
    "  2> sleep.stderr ;} 2> benchmark/testfiles/bwaMedTimeMem.txt\n",
    "addTime('benchmark/testfiles/bwaMedTime')"
   ]
  },
  {
   "cell_type": "code",
   "execution_count": 10,
   "id": "9447d010",
   "metadata": {},
   "outputs": [
    {
     "name": "stdout",
     "output_type": "stream",
     "text": [
      "Bwt\n",
      "real\t0.605\n",
      "user\t0.515\n",
      "sys\t0.08299999999999999\n",
      "\n",
      "Sw\n",
      "real\t0.574\n",
      "user\t0.528\n",
      "sys\t0.042\n",
      "\n",
      "Bwa\n",
      "real\t0.024\n",
      "user\t0.003\n",
      "sys\t0.012\n"
     ]
    }
   ],
   "source": [
    "# Print Medium Results\n",
    "print('Bwt')\n",
    "!cat benchmark/testfiles/bwaminBwtMedTime.txt\n",
    "print('\\nSw')\n",
    "!cat benchmark/testfiles/bwaminSwMedTime.txt\n",
    "print('\\nBwa')\n",
    "!cat benchmark/testfiles/bwaMedTime.txt"
   ]
  },
  {
   "cell_type": "markdown",
   "id": "594c1526",
   "metadata": {},
   "source": [
    "### Long"
   ]
  },
  {
   "cell_type": "markdown",
   "id": "bb08c3f1",
   "metadata": {},
   "source": [
    "This is an Ebola Virus found using sra."
   ]
  },
  {
   "cell_type": "code",
   "execution_count": 11,
   "id": "04339495",
   "metadata": {},
   "outputs": [
    {
     "name": "stdout",
     "output_type": "stream",
     "text": [
      "SRR10769501.fasta.fixed\n",
      ">@SRR10769501.1.1 M02486:32:000000000-BTHFB:1:1101:16201:1720 length=160\n",
      "GCCGTAGCCCTGCTCGCCAGCGCGTAGCGGTGTCGTTTCCGTAGCGTCATCTTCGTCATCATTATTTCCAGTGGGTTCCTCGTTTTCACTCGCATTCGTGTCTTCGTCTTCCACCTTGCGAACAAAGTCTTTCTTCCCCCGGATCGCAAAGAGCTCCAGC\n",
      ">@SRR10769501.2.1 M02486:32:000000000-BTHFB:1:1101:21365:1807 length=160\n",
      "GGGCTTCACGGGCTTGCGGCGTTTCCACGCCGTGGTCAACGGCGTTGCGCAGCAGGTGGCCCAGCGGGGCATCGAGCATCTGTCTCTTATACACATCTCCGACCCCACTCTACAGGCACAAATCTCCTATTCCGTCTTCTTCTTTAAAACAAAAACCCCC\n",
      ">@SRR10769501.3.1 M02486:32:000000000-BTHFB:1:1101:22516:1837 length=160\n",
      "CTGCCGGCATTCAAAAAGGTCGGTGTTGCCGGTTGATAACGCTGTTCGATCATTTCCCTCTCCAGTCTTTTAGCTGTCTCTTATACACATCTCCGAGCCCACGCTACCGTCACACCTCTCGTATTCCTTCTTCTCCTTGAACTAAAAAACCTCCCCCCCC\n",
      ">@SRR10769501.4.1 M02486:32:000000000-BTHFB:1:1101:17054:1951 length=160\n",
      "ACTCCCCTTCTTGGTCCGGGAAGCCGACGCCGGTCATGTACGTCGTCAGGGCATCGACCCAGACATACATGACCTGTCTCTTATACACATCTCCGAGCCCACGAGACAGGCAGAAATCTCGTATGCCGTCTTCTGCTTGAAAAAAAAAAACAAAAACACA\n",
      ">@SRR10769501.5.1 M02486:32:000000000-BTHFB:1:1101:13973:1958 length=160\n",
      "ACCTTTGAGCATGAGAATGGCTCCTGCAGTCAGGGGTAAATGAGGAAGCGGCGCGAGCCGGTTTTAGGGATGGCGTACTGCTGCGCCAGGTCCGGGTGATCGGCCCGCAGCCGATCCAGGTCCGTGGTGGTGCCGTCCTTGCTGCTGTCTCTTATACACA\n",
      "\n",
      "\n",
      "SRR10769501.fastq\n",
      "@SRR10769501.1.1 M02486:32:000000000-BTHFB:1:1101:16201:1720 length=160\n",
      "GCCGTAGCCCTGCTCGCCAGCGCGTAGCGGTGTCGTTTCCGTAGCGTCATCTTCGTCATCATTATTTCCAGTGGGTTCCTCGTTTTCACTCGCATTCGTGTCTTCGTCTTCCACCTTGCGAACAAAGTCTTTCTTCCCCCGGATCGCAAAGAGCTCCAGC\n",
      "+SRR10769501.1.1 M02486:32:000000000-BTHFB:1:1101:16201:1720 length=160\n",
      "????????????????????????????????????????????????????????????????????????????????????????????????????????????????????????????????????????????????????????????????\n",
      "@SRR10769501.2.1 M02486:32:000000000-BTHFB:1:1101:21365:1807 length=160\n",
      "GGGCTTCACGGGCTTGCGGCGTTTCCACGCCGTGGTCAACGGCGTTGCGCAGCAGGTGGCCCAGCGGGGCATCGAGCATCTGTCTCTTATACACATCTCCGACCCCACTCTACAGGCACAAATCTCCTATTCCGTCTTCTTCTTTAAAACAAAAACCCCC\n",
      "+SRR10769501.2.1 M02486:32:000000000-BTHFB:1:1101:21365:1807 length=160\n",
      "????????????????????????????????????????????????????????????????????????????????????????????????????????????????????????????????????????????????????????????????\n",
      "@SRR10769501.3.1 M02486:32:000000000-BTHFB:1:1101:22516:1837 length=160\n",
      "CTGCCGGCATTCAAAAAGGTCGGTGTTGCCGGTTGATAACGCTGTTCGATCATTTCCCTCTCCAGTCTTTTAGCTGTCTCTTATACACATCTCCGAGCCCACGCTACCGTCACACCTCTCGTATTCCTTCTTCTCCTTGAACTAAAAAACCTCCCCCCCC\n"
     ]
    }
   ],
   "source": [
    "# Peak at long reference and read\n",
    "print('SRR10769501.fasta.fixed')\n",
    "!head benchmark/mydata/SRR10769501.fasta.fixed\n",
    "print('\\n\\nSRR10769501.fastq')\n",
    "!head benchmark/mydata/SRR10769501.fastq"
   ]
  },
  {
   "cell_type": "code",
   "execution_count": 82,
   "id": "b794657f",
   "metadata": {},
   "outputs": [
    {
     "ename": "EmptyDataError",
     "evalue": "No columns to parse from file",
     "output_type": "error",
     "traceback": [
      "\u001b[0;31m---------------------------------------------------------------------------\u001b[0m",
      "\u001b[0;31mEmptyDataError\u001b[0m                            Traceback (most recent call last)",
      "\u001b[0;32m/tmp/ipykernel_579/802915289.py\u001b[0m in \u001b[0;36m<module>\u001b[0;34m\u001b[0m\n\u001b[1;32m      2\u001b[0m \u001b[0mget_ipython\u001b[0m\u001b[0;34m(\u001b[0m\u001b[0;34m)\u001b[0m\u001b[0;34m.\u001b[0m\u001b[0msystem\u001b[0m\u001b[0;34m(\u001b[0m\u001b[0;34m'{ time python bwamin.py --index --bwt   --fa benchmark/mydata/SRR10769501.fasta.fixed    2> sleep.stderr ;}    2> benchmark/mydata/bwaminBwtLongTimeIndex.txt'\u001b[0m\u001b[0;34m)\u001b[0m\u001b[0;34m\u001b[0m\u001b[0;34m\u001b[0m\u001b[0m\n\u001b[1;32m      3\u001b[0m \u001b[0mget_ipython\u001b[0m\u001b[0;34m(\u001b[0m\u001b[0;34m)\u001b[0m\u001b[0;34m.\u001b[0m\u001b[0msystem\u001b[0m\u001b[0;34m(\u001b[0m\u001b[0;34m'{ time python bwamin.py --mem --bwt   --fa benchmark/mydata/SRR10769501.fasta.fixed   --fq benchmark/mydata/SRR10769501.fastq    2> sleep.stderr ;}    2> benchmark/mydata/bwaminBwtLongTimeMem.txt'\u001b[0m\u001b[0;34m)\u001b[0m\u001b[0;34m\u001b[0m\u001b[0;34m\u001b[0m\u001b[0m\n\u001b[0;32m----> 4\u001b[0;31m \u001b[0maddTime\u001b[0m\u001b[0;34m(\u001b[0m\u001b[0;34m'benchmark/mydata/bwaminBwtLongTime'\u001b[0m\u001b[0;34m)\u001b[0m\u001b[0;34m\u001b[0m\u001b[0;34m\u001b[0m\u001b[0m\n\u001b[0m\u001b[1;32m      5\u001b[0m \u001b[0;34m\u001b[0m\u001b[0m\n",
      "\u001b[0;32m/tmp/ipykernel_579/3597286771.py\u001b[0m in \u001b[0;36maddTime\u001b[0;34m(filename)\u001b[0m\n\u001b[1;32m     31\u001b[0m     \u001b[0;31m# Read files\u001b[0m\u001b[0;34m\u001b[0m\u001b[0;34m\u001b[0m\u001b[0;34m\u001b[0m\u001b[0m\n\u001b[1;32m     32\u001b[0m     \u001b[0mx\u001b[0m \u001b[0;34m=\u001b[0m \u001b[0mpd\u001b[0m\u001b[0;34m.\u001b[0m\u001b[0mread_csv\u001b[0m\u001b[0;34m(\u001b[0m\u001b[0mfilename\u001b[0m \u001b[0;34m+\u001b[0m \u001b[0;34m\"Index.txt\"\u001b[0m\u001b[0;34m,\u001b[0m \u001b[0msep\u001b[0m\u001b[0;34m=\u001b[0m\u001b[0;34m'\\t'\u001b[0m\u001b[0;34m,\u001b[0m \u001b[0mheader\u001b[0m\u001b[0;34m=\u001b[0m\u001b[0;32mNone\u001b[0m\u001b[0;34m)\u001b[0m\u001b[0;34m\u001b[0m\u001b[0;34m\u001b[0m\u001b[0m\n\u001b[0;32m---> 33\u001b[0;31m     \u001b[0my\u001b[0m \u001b[0;34m=\u001b[0m \u001b[0mpd\u001b[0m\u001b[0;34m.\u001b[0m\u001b[0mread_csv\u001b[0m\u001b[0;34m(\u001b[0m\u001b[0mfilename\u001b[0m \u001b[0;34m+\u001b[0m \u001b[0;34m\"Mem.txt\"\u001b[0m\u001b[0;34m,\u001b[0m \u001b[0msep\u001b[0m\u001b[0;34m=\u001b[0m\u001b[0;34m'\\t'\u001b[0m\u001b[0;34m,\u001b[0m \u001b[0mheader\u001b[0m\u001b[0;34m=\u001b[0m\u001b[0;32mNone\u001b[0m\u001b[0;34m)\u001b[0m\u001b[0;34m\u001b[0m\u001b[0;34m\u001b[0m\u001b[0m\n\u001b[0m\u001b[1;32m     34\u001b[0m \u001b[0;34m\u001b[0m\u001b[0m\n\u001b[1;32m     35\u001b[0m     \u001b[0;31m# Convert and add times\u001b[0m\u001b[0;34m\u001b[0m\u001b[0;34m\u001b[0m\u001b[0;34m\u001b[0m\u001b[0m\n",
      "\u001b[0;32m/opt/conda/lib/python3.9/site-packages/pandas/util/_decorators.py\u001b[0m in \u001b[0;36mwrapper\u001b[0;34m(*args, **kwargs)\u001b[0m\n\u001b[1;32m    209\u001b[0m                 \u001b[0;32melse\u001b[0m\u001b[0;34m:\u001b[0m\u001b[0;34m\u001b[0m\u001b[0;34m\u001b[0m\u001b[0m\n\u001b[1;32m    210\u001b[0m                     \u001b[0mkwargs\u001b[0m\u001b[0;34m[\u001b[0m\u001b[0mnew_arg_name\u001b[0m\u001b[0;34m]\u001b[0m \u001b[0;34m=\u001b[0m \u001b[0mnew_arg_value\u001b[0m\u001b[0;34m\u001b[0m\u001b[0;34m\u001b[0m\u001b[0m\n\u001b[0;32m--> 211\u001b[0;31m             \u001b[0;32mreturn\u001b[0m \u001b[0mfunc\u001b[0m\u001b[0;34m(\u001b[0m\u001b[0;34m*\u001b[0m\u001b[0margs\u001b[0m\u001b[0;34m,\u001b[0m \u001b[0;34m**\u001b[0m\u001b[0mkwargs\u001b[0m\u001b[0;34m)\u001b[0m\u001b[0;34m\u001b[0m\u001b[0;34m\u001b[0m\u001b[0m\n\u001b[0m\u001b[1;32m    212\u001b[0m \u001b[0;34m\u001b[0m\u001b[0m\n\u001b[1;32m    213\u001b[0m         \u001b[0;32mreturn\u001b[0m \u001b[0mcast\u001b[0m\u001b[0;34m(\u001b[0m\u001b[0mF\u001b[0m\u001b[0;34m,\u001b[0m \u001b[0mwrapper\u001b[0m\u001b[0;34m)\u001b[0m\u001b[0;34m\u001b[0m\u001b[0;34m\u001b[0m\u001b[0m\n",
      "\u001b[0;32m/opt/conda/lib/python3.9/site-packages/pandas/util/_decorators.py\u001b[0m in \u001b[0;36mwrapper\u001b[0;34m(*args, **kwargs)\u001b[0m\n\u001b[1;32m    329\u001b[0m                     \u001b[0mstacklevel\u001b[0m\u001b[0;34m=\u001b[0m\u001b[0mfind_stack_level\u001b[0m\u001b[0;34m(\u001b[0m\u001b[0;34m)\u001b[0m\u001b[0;34m,\u001b[0m\u001b[0;34m\u001b[0m\u001b[0;34m\u001b[0m\u001b[0m\n\u001b[1;32m    330\u001b[0m                 )\n\u001b[0;32m--> 331\u001b[0;31m             \u001b[0;32mreturn\u001b[0m \u001b[0mfunc\u001b[0m\u001b[0;34m(\u001b[0m\u001b[0;34m*\u001b[0m\u001b[0margs\u001b[0m\u001b[0;34m,\u001b[0m \u001b[0;34m**\u001b[0m\u001b[0mkwargs\u001b[0m\u001b[0;34m)\u001b[0m\u001b[0;34m\u001b[0m\u001b[0;34m\u001b[0m\u001b[0m\n\u001b[0m\u001b[1;32m    332\u001b[0m \u001b[0;34m\u001b[0m\u001b[0m\n\u001b[1;32m    333\u001b[0m         \u001b[0;31m# error: \"Callable[[VarArg(Any), KwArg(Any)], Any]\" has no\u001b[0m\u001b[0;34m\u001b[0m\u001b[0;34m\u001b[0m\u001b[0;34m\u001b[0m\u001b[0m\n",
      "\u001b[0;32m/opt/conda/lib/python3.9/site-packages/pandas/io/parsers/readers.py\u001b[0m in \u001b[0;36mread_csv\u001b[0;34m(filepath_or_buffer, sep, delimiter, header, names, index_col, usecols, squeeze, prefix, mangle_dupe_cols, dtype, engine, converters, true_values, false_values, skipinitialspace, skiprows, skipfooter, nrows, na_values, keep_default_na, na_filter, verbose, skip_blank_lines, parse_dates, infer_datetime_format, keep_date_col, date_parser, dayfirst, cache_dates, iterator, chunksize, compression, thousands, decimal, lineterminator, quotechar, quoting, doublequote, escapechar, comment, encoding, encoding_errors, dialect, error_bad_lines, warn_bad_lines, on_bad_lines, delim_whitespace, low_memory, memory_map, float_precision, storage_options)\u001b[0m\n\u001b[1;32m    948\u001b[0m     \u001b[0mkwds\u001b[0m\u001b[0;34m.\u001b[0m\u001b[0mupdate\u001b[0m\u001b[0;34m(\u001b[0m\u001b[0mkwds_defaults\u001b[0m\u001b[0;34m)\u001b[0m\u001b[0;34m\u001b[0m\u001b[0;34m\u001b[0m\u001b[0m\n\u001b[1;32m    949\u001b[0m \u001b[0;34m\u001b[0m\u001b[0m\n\u001b[0;32m--> 950\u001b[0;31m     \u001b[0;32mreturn\u001b[0m \u001b[0m_read\u001b[0m\u001b[0;34m(\u001b[0m\u001b[0mfilepath_or_buffer\u001b[0m\u001b[0;34m,\u001b[0m \u001b[0mkwds\u001b[0m\u001b[0;34m)\u001b[0m\u001b[0;34m\u001b[0m\u001b[0;34m\u001b[0m\u001b[0m\n\u001b[0m\u001b[1;32m    951\u001b[0m \u001b[0;34m\u001b[0m\u001b[0m\n\u001b[1;32m    952\u001b[0m \u001b[0;34m\u001b[0m\u001b[0m\n",
      "\u001b[0;32m/opt/conda/lib/python3.9/site-packages/pandas/io/parsers/readers.py\u001b[0m in \u001b[0;36m_read\u001b[0;34m(filepath_or_buffer, kwds)\u001b[0m\n\u001b[1;32m    603\u001b[0m \u001b[0;34m\u001b[0m\u001b[0m\n\u001b[1;32m    604\u001b[0m     \u001b[0;31m# Create the parser.\u001b[0m\u001b[0;34m\u001b[0m\u001b[0;34m\u001b[0m\u001b[0;34m\u001b[0m\u001b[0m\n\u001b[0;32m--> 605\u001b[0;31m     \u001b[0mparser\u001b[0m \u001b[0;34m=\u001b[0m \u001b[0mTextFileReader\u001b[0m\u001b[0;34m(\u001b[0m\u001b[0mfilepath_or_buffer\u001b[0m\u001b[0;34m,\u001b[0m \u001b[0;34m**\u001b[0m\u001b[0mkwds\u001b[0m\u001b[0;34m)\u001b[0m\u001b[0;34m\u001b[0m\u001b[0;34m\u001b[0m\u001b[0m\n\u001b[0m\u001b[1;32m    606\u001b[0m \u001b[0;34m\u001b[0m\u001b[0m\n\u001b[1;32m    607\u001b[0m     \u001b[0;32mif\u001b[0m \u001b[0mchunksize\u001b[0m \u001b[0;32mor\u001b[0m \u001b[0miterator\u001b[0m\u001b[0;34m:\u001b[0m\u001b[0;34m\u001b[0m\u001b[0;34m\u001b[0m\u001b[0m\n",
      "\u001b[0;32m/opt/conda/lib/python3.9/site-packages/pandas/io/parsers/readers.py\u001b[0m in \u001b[0;36m__init__\u001b[0;34m(self, f, engine, **kwds)\u001b[0m\n\u001b[1;32m   1440\u001b[0m \u001b[0;34m\u001b[0m\u001b[0m\n\u001b[1;32m   1441\u001b[0m         \u001b[0mself\u001b[0m\u001b[0;34m.\u001b[0m\u001b[0mhandles\u001b[0m\u001b[0;34m:\u001b[0m \u001b[0mIOHandles\u001b[0m \u001b[0;34m|\u001b[0m \u001b[0;32mNone\u001b[0m \u001b[0;34m=\u001b[0m \u001b[0;32mNone\u001b[0m\u001b[0;34m\u001b[0m\u001b[0;34m\u001b[0m\u001b[0m\n\u001b[0;32m-> 1442\u001b[0;31m         \u001b[0mself\u001b[0m\u001b[0;34m.\u001b[0m\u001b[0m_engine\u001b[0m \u001b[0;34m=\u001b[0m \u001b[0mself\u001b[0m\u001b[0;34m.\u001b[0m\u001b[0m_make_engine\u001b[0m\u001b[0;34m(\u001b[0m\u001b[0mf\u001b[0m\u001b[0;34m,\u001b[0m \u001b[0mself\u001b[0m\u001b[0;34m.\u001b[0m\u001b[0mengine\u001b[0m\u001b[0;34m)\u001b[0m\u001b[0;34m\u001b[0m\u001b[0;34m\u001b[0m\u001b[0m\n\u001b[0m\u001b[1;32m   1443\u001b[0m \u001b[0;34m\u001b[0m\u001b[0m\n\u001b[1;32m   1444\u001b[0m     \u001b[0;32mdef\u001b[0m \u001b[0mclose\u001b[0m\u001b[0;34m(\u001b[0m\u001b[0mself\u001b[0m\u001b[0;34m)\u001b[0m \u001b[0;34m->\u001b[0m \u001b[0;32mNone\u001b[0m\u001b[0;34m:\u001b[0m\u001b[0;34m\u001b[0m\u001b[0;34m\u001b[0m\u001b[0m\n",
      "\u001b[0;32m/opt/conda/lib/python3.9/site-packages/pandas/io/parsers/readers.py\u001b[0m in \u001b[0;36m_make_engine\u001b[0;34m(self, f, engine)\u001b[0m\n\u001b[1;32m   1751\u001b[0m \u001b[0;34m\u001b[0m\u001b[0m\n\u001b[1;32m   1752\u001b[0m         \u001b[0;32mtry\u001b[0m\u001b[0;34m:\u001b[0m\u001b[0;34m\u001b[0m\u001b[0;34m\u001b[0m\u001b[0m\n\u001b[0;32m-> 1753\u001b[0;31m             \u001b[0;32mreturn\u001b[0m \u001b[0mmapping\u001b[0m\u001b[0;34m[\u001b[0m\u001b[0mengine\u001b[0m\u001b[0;34m]\u001b[0m\u001b[0;34m(\u001b[0m\u001b[0mf\u001b[0m\u001b[0;34m,\u001b[0m \u001b[0;34m**\u001b[0m\u001b[0mself\u001b[0m\u001b[0;34m.\u001b[0m\u001b[0moptions\u001b[0m\u001b[0;34m)\u001b[0m\u001b[0;34m\u001b[0m\u001b[0;34m\u001b[0m\u001b[0m\n\u001b[0m\u001b[1;32m   1754\u001b[0m         \u001b[0;32mexcept\u001b[0m \u001b[0mException\u001b[0m\u001b[0;34m:\u001b[0m\u001b[0;34m\u001b[0m\u001b[0;34m\u001b[0m\u001b[0m\n\u001b[1;32m   1755\u001b[0m             \u001b[0;32mif\u001b[0m \u001b[0mself\u001b[0m\u001b[0;34m.\u001b[0m\u001b[0mhandles\u001b[0m \u001b[0;32mis\u001b[0m \u001b[0;32mnot\u001b[0m \u001b[0;32mNone\u001b[0m\u001b[0;34m:\u001b[0m\u001b[0;34m\u001b[0m\u001b[0;34m\u001b[0m\u001b[0m\n",
      "\u001b[0;32m/opt/conda/lib/python3.9/site-packages/pandas/io/parsers/c_parser_wrapper.py\u001b[0m in \u001b[0;36m__init__\u001b[0;34m(self, src, **kwds)\u001b[0m\n\u001b[1;32m     77\u001b[0m \u001b[0;34m\u001b[0m\u001b[0m\n\u001b[1;32m     78\u001b[0m         \u001b[0mkwds\u001b[0m\u001b[0;34m[\u001b[0m\u001b[0;34m\"dtype\"\u001b[0m\u001b[0;34m]\u001b[0m \u001b[0;34m=\u001b[0m \u001b[0mensure_dtype_objs\u001b[0m\u001b[0;34m(\u001b[0m\u001b[0mkwds\u001b[0m\u001b[0;34m.\u001b[0m\u001b[0mget\u001b[0m\u001b[0;34m(\u001b[0m\u001b[0;34m\"dtype\"\u001b[0m\u001b[0;34m,\u001b[0m \u001b[0;32mNone\u001b[0m\u001b[0;34m)\u001b[0m\u001b[0;34m)\u001b[0m\u001b[0;34m\u001b[0m\u001b[0;34m\u001b[0m\u001b[0m\n\u001b[0;32m---> 79\u001b[0;31m         \u001b[0mself\u001b[0m\u001b[0;34m.\u001b[0m\u001b[0m_reader\u001b[0m \u001b[0;34m=\u001b[0m \u001b[0mparsers\u001b[0m\u001b[0;34m.\u001b[0m\u001b[0mTextReader\u001b[0m\u001b[0;34m(\u001b[0m\u001b[0msrc\u001b[0m\u001b[0;34m,\u001b[0m \u001b[0;34m**\u001b[0m\u001b[0mkwds\u001b[0m\u001b[0;34m)\u001b[0m\u001b[0;34m\u001b[0m\u001b[0;34m\u001b[0m\u001b[0m\n\u001b[0m\u001b[1;32m     80\u001b[0m \u001b[0;34m\u001b[0m\u001b[0m\n\u001b[1;32m     81\u001b[0m         \u001b[0mself\u001b[0m\u001b[0;34m.\u001b[0m\u001b[0munnamed_cols\u001b[0m \u001b[0;34m=\u001b[0m \u001b[0mself\u001b[0m\u001b[0;34m.\u001b[0m\u001b[0m_reader\u001b[0m\u001b[0;34m.\u001b[0m\u001b[0munnamed_cols\u001b[0m\u001b[0;34m\u001b[0m\u001b[0;34m\u001b[0m\u001b[0m\n",
      "\u001b[0;32m/opt/conda/lib/python3.9/site-packages/pandas/_libs/parsers.pyx\u001b[0m in \u001b[0;36mpandas._libs.parsers.TextReader.__cinit__\u001b[0;34m()\u001b[0m\n",
      "\u001b[0;31mEmptyDataError\u001b[0m: No columns to parse from file"
     ]
    }
   ],
   "source": [
    "%%capture\n",
    "# Bwt\n",
    "!{ time python bwamin.py --index --bwt\\\n",
    "  --fa benchmark/mydata/SRR10769501.fasta.fixed \\\n",
    "  2> sleep.stderr ;} \\\n",
    "  2> benchmark/mydata/bwaminBwtLongTimeIndex.txt\n",
    "!{ time python bwamin.py --mem --bwt\\\n",
    "  --fa benchmark/mydata/SRR10769501.fasta.fixed\\\n",
    "  --fq benchmark/mydata/SRR10769501.fastq \\\n",
    "  2> sleep.stderr ;} \\\n",
    "  2> benchmark/mydata/bwaminBwtLongTimeMem.txt\n",
    "addTime('benchmark/mydata/bwaminBwtLongTime')\n",
    "\n"
   ]
  },
  {
   "cell_type": "code",
   "execution_count": null,
   "id": "0a0c0164",
   "metadata": {},
   "outputs": [],
   "source": [
    "%%capture\n",
    "# NOTE: This process will be killed even with 48GB, Don't run\n",
    "# Sw\n",
    "!{ time python bwamin.py --mem --sw\\\n",
    "  --fa benchmark/mydata/SRR10769501.fasta.fixed\\\n",
    "  --fq benchmark/mydata/SRR10769501.fastq \\\n",
    "  2> sleep.stderr ;} 2> benchmark/mydata/bwaminSwLongTime.txt\n",
    "convertTime('benchmark/mydata/bwaminSwLongTime.txt')"
   ]
  },
  {
   "cell_type": "code",
   "execution_count": 12,
   "id": "8c07b636",
   "metadata": {},
   "outputs": [],
   "source": [
    "%%capture\n",
    "# Bwa\n",
    "!{ time bwa index benchmark/mydata/SRR10769501.fasta.fixed \\\n",
    "  2> sleep.stderr ;} 2> benchmark/mydata/bwaLongTimeIndex.txt\n",
    "!{ time bwa mem benchmark/mydata/SRR10769501.fasta.fixed\\\n",
    "  benchmark/mydata/SRR10769501.fastq \\\n",
    "  2> sleep.stderr ;} 2> benchmark/mydata/bwaLongTimeMem.txt\n",
    "addTime('benchmark/mydata/bwaLongTime')"
   ]
  },
  {
   "cell_type": "code",
   "execution_count": 13,
   "id": "260b398e",
   "metadata": {},
   "outputs": [
    {
     "name": "stdout",
     "output_type": "stream",
     "text": [
      "Bwt\n",
      "cat: benchmark/mydata/bwaminBwtLongTime.txt: No such file or directory\n",
      "\n",
      "Sw\n",
      "cat: benchmark/mydata/bwaminSwLongTime.txt: No such file or directory\n",
      "\n",
      "Bwa\n",
      "real\t12.261\n",
      "user\t8.684\n",
      "sys\t1.377\n"
     ]
    }
   ],
   "source": [
    "#Print Short Results\n",
    "print('Bwt')\n",
    "!cat benchmark/mydata/bwaminBwtLongTime.txt\n",
    "print('\\nSw')\n",
    "!cat benchmark/mydata/bwaminSwLongTime.txt\n",
    "print('\\nBwa')\n",
    "!cat benchmark/mydata/bwaLongTime.txt"
   ]
  },
  {
   "cell_type": "code",
   "execution_count": null,
   "id": "2e194807",
   "metadata": {},
   "outputs": [],
   "source": [
    "### In-Class sample\n"
   ]
  },
  {
   "cell_type": "markdown",
   "id": "10509d48",
   "metadata": {},
   "source": [
    "### Graphs"
   ]
  },
  {
   "cell_type": "markdown",
   "id": "5a75dae6",
   "metadata": {},
   "source": [
    "## Memory Section"
   ]
  },
  {
   "cell_type": "code",
   "execution_count": null,
   "id": "9a0f1269",
   "metadata": {},
   "outputs": [],
   "source": []
  }
 ],
 "metadata": {
  "kernelspec": {
   "display_name": "Python 3 (ipykernel)",
   "language": "python",
   "name": "python3"
  },
  "language_info": {
   "codemirror_mode": {
    "name": "ipython",
    "version": 3
   },
   "file_extension": ".py",
   "mimetype": "text/x-python",
   "name": "python",
   "nbconvert_exporter": "python",
   "pygments_lexer": "ipython3",
   "version": "3.9.5"
  }
 },
 "nbformat": 4,
 "nbformat_minor": 5
}
