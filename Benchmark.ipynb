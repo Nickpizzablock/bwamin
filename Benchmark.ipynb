{
 "cells": [
  {
   "cell_type": "markdown",
   "id": "e2f84bba",
   "metadata": {},
   "source": [
    "# Bwamin VS BWA Benchmark"
   ]
  },
  {
   "cell_type": "markdown",
   "id": "bceab478",
   "metadata": {},
   "source": [
    "Note: Bwamin --mem --sw will fail for Large + files. DO NOT RUN!"
   ]
  },
  {
   "cell_type": "markdown",
   "id": "0c73f55b",
   "metadata": {},
   "source": [
    "## Table of Contents\n",
    "Note: Click to jump to section\n",
    "1. [Installation Check](#installation)\n",
    "2. [Time Section](#time)\n",
    "    1. BWT\n",
    "    2. SW\n",
    "    3. BWA\n",
    "    4. Graphs\n",
    "3. [Memory Section](#memory)\n",
    "    1. BWT\n",
    "    2. SW\n",
    "    3. BWA\n",
    "    4. Graphs\n",
    "4. [Conclusions](#conclusions)"
   ]
  },
  {
   "cell_type": "markdown",
   "id": "780eaf2c",
   "metadata": {},
   "source": [
    "## Installation Check <a name=\"installation\"></a>"
   ]
  },
  {
   "cell_type": "code",
   "execution_count": 1,
   "id": "0e8cfcda",
   "metadata": {},
   "outputs": [],
   "source": [
    "%%capture\n",
    "!echo hi\n",
    "# Run this cell to make capture small again"
   ]
  },
  {
   "cell_type": "markdown",
   "id": "03fb0ebe",
   "metadata": {},
   "source": [
    "Let's check if BWA and Bwamin are installed"
   ]
  },
  {
   "cell_type": "code",
   "execution_count": 2,
   "id": "9196ac9f",
   "metadata": {},
   "outputs": [
    {
     "name": "stdout",
     "output_type": "stream",
     "text": [
      "\r\n",
      "Program: bwa (alignment via Burrows-Wheeler transformation)\r\n",
      "Version: 0.7.17-r1198-dirty\r\n",
      "Contact: Heng Li <hli@ds.dfci.harvard.edu>\r\n",
      "\r\n",
      "Usage:   bwa <command> [options]\r\n",
      "\r\n",
      "Command: index         index sequences in the FASTA format\r\n",
      "         mem           BWA-MEM algorithm\r\n",
      "         fastmap       identify super-maximal exact matches\r\n",
      "         pemerge       merge overlapping paired ends (EXPERIMENTAL)\r\n",
      "         aln           gapped/ungapped alignment\r\n",
      "         samse         generate alignment (single ended)\r\n",
      "         sampe         generate alignment (paired ended)\r\n",
      "         bwasw         BWA-SW for long queries (DEPRECATED)\r\n",
      "\r\n",
      "         shm           manage indices in shared memory\r\n",
      "         fa2pac        convert FASTA to PAC format\r\n",
      "         pac2bwt       generate BWT from PAC\r\n",
      "         pac2bwtgen    alternative algorithm for generating BWT\r\n",
      "         bwtupdate     update .bwt to the new format\r\n",
      "         bwt2sa        generate SA from BWT and Occ\r\n",
      "\r\n",
      "Note: To use BWA, you need to first index the genome with `bwa index'.\r\n",
      "      There are three alignment algorithms in BWA: `mem', `bwasw', and\r\n",
      "      `aln/samse/sampe'. If you are not sure which to use, try `bwa mem'\r\n",
      "      first. Please `man ./bwa.1' for the manual.\r\n",
      "\r\n"
     ]
    }
   ],
   "source": [
    "!bwa"
   ]
  },
  {
   "cell_type": "code",
   "execution_count": 3,
   "id": "2f2be184",
   "metadata": {},
   "outputs": [
    {
     "name": "stdout",
     "output_type": "stream",
     "text": [
      "usage: bwamin.py [-h] [--index] [--mem] [--bwt] [--sw] [--fasta FASTA]\r\n",
      "                 [--fastq FASTQ] [-A A] [-B B] [-O O] [-E E] [-out OUT]\r\n",
      "\r\n",
      "minimum bwa\r\n",
      "\r\n",
      "optional arguments:\r\n",
      "  -h, --help            show this help message and exit\r\n",
      "  --index               index a fasta file\r\n",
      "  --mem                 index a fasta file\r\n",
      "  --bwt                 enables Burrow-Wheeler Transform search\r\n",
      "  --sw                  enables Smith-Waterman search\r\n",
      "  --fasta FASTA, --fa FASTA\r\n",
      "                        fasta input\r\n",
      "  --fastq FASTQ, --fq FASTQ\r\n",
      "                        fastq input\r\n",
      "  -A A                  Matching score. [1]\r\n",
      "  -B B                  Mismatch penalty. The sequence error rate is\r\n",
      "                        approximately: {.75 * exp[-log(4) * B/A]}. [4]\r\n",
      "  -O O                  Gap open penalty. [6]\r\n",
      "  -E E                  Gap extension penalty. A gap of length k costs O + k*E\r\n",
      "                        (i.e. -O is for opening a zero-length gap). [1]\r\n",
      "  -out OUT              Specify output file\r\n"
     ]
    }
   ],
   "source": [
    "!python bwamin.py -h"
   ]
  },
  {
   "cell_type": "markdown",
   "id": "80451e69",
   "metadata": {},
   "source": [
    "## Time Section <a name=\"time\"></a>"
   ]
  },
  {
   "cell_type": "markdown",
   "id": "40cfc392",
   "metadata": {},
   "source": [
    "We will test bwamin bwt, bwamin sw, and bwa on a custom\n",
    "short, and longer files."
   ]
  },
  {
   "cell_type": "code",
   "execution_count": 4,
   "id": "12962065",
   "metadata": {},
   "outputs": [],
   "source": [
    "# Helper commands so we can graph later\n",
    "import pandas as pd\n",
    "import seaborn as sns\n",
    "\n",
    "# Change string to seconds\n",
    "def timing(string):\n",
    "    if type(string) == type(0.01):\n",
    "        return string\n",
    "    elements = string.split('m')\n",
    "    minutes = elements[0]\n",
    "    seconds = elements[1]\n",
    "\n",
    "    seconds = seconds.replace('s', '')\n",
    "    minues = minutes.strip()\n",
    "    seconds = seconds.strip()\n",
    "\n",
    "    if not minutes.isnumeric() or seconds.isnumeric():\n",
    "        print('ERROR')\n",
    "\n",
    "    return (float(minutes) * 60 + float(seconds))\n",
    "    \n",
    "def convertTime(filename):\n",
    "    if '.txt' not in filename:\n",
    "        filename = filename + '.txt'\n",
    "    x = pd.read_csv(filename, sep='\\t', header=None)\n",
    "    x[1] = x[1].apply(timing)\n",
    "    x.to_csv(filename, header=False, index=False, sep='\\t')     \n",
    "    \n",
    "# Summing the time with index and mem to one file\n",
    "def addTime(filename):\n",
    "    # Read files\n",
    "    x = pd.read_csv(filename + \"Index.txt\", sep='\\t', header=None)\n",
    "    y = pd.read_csv(filename + \"Mem.txt\", sep='\\t', header=None)\n",
    "    \n",
    "    # Convert and add times\n",
    "    x[1] = x[1].apply(timing)\n",
    "    y[1] = y[1].apply(timing)\n",
    "    x[1] = x[1] + y[1]\n",
    "    \n",
    "    # Write to file\n",
    "    x.to_csv(filename + '.txt', header=False, index=False, sep='\\t') \n",
    "    \n",
    "def convertSec(filename):\n",
    "    if '.txt' not in filename:\n",
    "        filename = filename + '.txt'\n",
    "    x = pd.read_csv(filename, sep='\\t', header=None)\n",
    "    x[1] = x[1].apply(timing)\n",
    "    return x[1][0]\n",
    "    \n",
    "def addSec(filename):\n",
    "    # Read files\n",
    "    x = pd.read_csv(filename + \"Index.txt\", sep='\\t', header=None)\n",
    "    y = pd.read_csv(filename + \"Mem.txt\", sep='\\t', header=None)\n",
    "    # Convert and add times\n",
    "    x[1] = x[1].apply(timing)\n",
    "    y[1] = y[1].apply(timing)\n",
    "    x[1] = x[1] + y[1]\n",
    "    return x[1][0]"
   ]
  },
  {
   "cell_type": "code",
   "execution_count": 5,
   "id": "ed21bf42",
   "metadata": {},
   "outputs": [],
   "source": [
    "# Initiallize the values total time\n",
    "bwt = [0 for i in range(5)]\n",
    "sw = [0 for j in range(5)]\n",
    "bwa = [0 for k in range(5)]\n"
   ]
  },
  {
   "cell_type": "markdown",
   "id": "d9325e97",
   "metadata": {},
   "source": [
    "### Short"
   ]
  },
  {
   "cell_type": "code",
   "execution_count": 6,
   "id": "51112444",
   "metadata": {},
   "outputs": [
    {
     "name": "stdout",
     "output_type": "stream",
     "text": [
      "short.fa\n",
      ">chr1\n",
      "TGCAA\n",
      "\n",
      "short.fq\n",
      "@Sample1\n",
      "TCAT\n",
      "+\n",
      "!1=D"
     ]
    }
   ],
   "source": [
    "# Peak at short reference and read\n",
    "print('short.fa')\n",
    "!head benchmark/testfiles/short.fa\n",
    "print('\\n\\nshort.fq')\n",
    "!head benchmark/testfiles/short.fq"
   ]
  },
  {
   "cell_type": "code",
   "execution_count": 7,
   "id": "8be7fa2e",
   "metadata": {},
   "outputs": [],
   "source": [
    "%%capture\n",
    "# Bwt\n",
    "!{ time python bwamin.py --index --bwt --fa benchmark/testfiles/short.fa \\\n",
    "  2> sleep.stderr ;} 2> benchmark/testfiles/bwaminBwtShortTimeIndex.txt\n",
    "!{ time python bwamin.py --mem --bwt --fa benchmark/testfiles/short.fa \\\n",
    "  --fq benchmark/testfiles/short.fq -out benchmark/testfiles/bwtshort.sam \\\n",
    "  2> sleep.stderr ;} 2> benchmark/testfiles/bwaminBwtShortTimeMem.txt\n",
    "bwt[0] = addSec('benchmark/testfiles/bwaminBwtShortTime')\n",
    "\n",
    "# Sw\n",
    "!{ time python bwamin.py --mem --sw --fa benchmark/testfiles/short.fa\\\n",
    "  --fq benchmark/testfiles/short.fq -out benchmark/testfiles/swshort.sam\\\n",
    "  2> sleep.stderr ;} 2> benchmark/testfiles/bwaminSwShortTime.txt\n",
    "sw[0] = convertSec('benchmark/testfiles/bwaminSwShortTime.txt')\n",
    "\n",
    "# Bwa\n",
    "!{ time bwa index benchmark/testfiles/short.fa \\\n",
    "  2> sleep.stderr ;} 2> benchmark/testfiles/bwaShortTimeIndex.txt\n",
    "!{ time bwa mem benchmark/testfiles/short.fa \\\n",
    "  benchmark/testfiles/short.fq > benchmark/testfiles/bwashort.sam\\\n",
    "  2> sleep.stderr ;} 2> benchmark/testfiles/bwaShortTimeMem.txt\n",
    "bwa[0] = addSec('benchmark/testfiles/bwaShortTime')"
   ]
  },
  {
   "cell_type": "code",
   "execution_count": 8,
   "id": "8c5e39c5",
   "metadata": {},
   "outputs": [
    {
     "name": "stdout",
     "output_type": "stream",
     "text": [
      "Bwt\n",
      "real\t1.721\n",
      "user\t1.116\n",
      "sys\t0.362\n",
      "\n",
      "Sw\n",
      "\n",
      "real\t0m0.240s\n",
      "user\t0m0.196s\n",
      "sys\t0m0.039s\n",
      "\n",
      "Bwa\n",
      "real\t0.033\n",
      "user\t0.006\n",
      "sys\t0.013\n"
     ]
    }
   ],
   "source": [
    "# Print Short Results\n",
    "# print('Bwt')\n",
    "# !cat benchmark/testfiles/bwaminBwtShortTime.txt\n",
    "# print('\\nSw')\n",
    "# !cat benchmark/testfiles/bwaminSwShortTime.txt\n",
    "# print('\\nBwa')\n",
    "# !cat benchmark/testfiles/bwaShortTime.txt"
   ]
  },
  {
   "cell_type": "code",
   "execution_count": null,
   "id": "2fdbb29e",
   "metadata": {},
   "outputs": [],
   "source": [
    "print(bwt)\n",
    "print(sw)\n",
    "print(bwa)"
   ]
  },
  {
   "cell_type": "markdown",
   "id": "98db58da",
   "metadata": {},
   "source": [
    "## Medium"
   ]
  },
  {
   "cell_type": "code",
   "execution_count": 9,
   "id": "4f67f320",
   "metadata": {},
   "outputs": [
    {
     "name": "stdout",
     "output_type": "stream",
     "text": [
      "testfastring.fa\n",
      ">chr1\n",
      "ATCCTATATTACGACTTTGGCAGGGGGTTCGCAAGTCCCACCCCAAACGATGCTGAAGGCTCAGGTTACACAGGCACAAGTACTATATATACGAGTTCCCGCTCTTAACCTGGATCGAATGCAGAATCATGCATCGTACCACTGTGTTCGTGTCATCTAGGACGGGCGCAAAGGATATATAATTCAATTAAGAATACCTTATATTATTGTACACCTACCGGTCACCAGCCAACAATGTGCGGATGGCGTT\n",
      ">chr2\n",
      "ACGACTTACTGGGCCTGATCTCACCGCTTTAGATACCGCACACTGGGCAATACGAGGTAAAGCCAGTCACCCAGTGTCGATCAACAGCTAACGTAACGGTAAGAGGCTCACAAAATCGCACTGTCGGCGTCCCTTGGGTATTTTACGTTAGCATCAGGTGGACTAGCATGAATCTTTACTCCCAGGCGAAAACGGGTGCGTGGACAAGCGAGCAGCAAACGAAAATTCTTGGCCTGCTTGGTGTCTCGTA\n",
      "\n",
      "testfqstring.fq\n",
      "@SRR5077691.13\n",
      "NTGAAAAGATGTCTCCTTCTGTAAGTCAGAACAAAAAACTTTAATTAACT\n",
      "+\n",
      "!1=DDFFFHHHHGJJJJJJJJIJJJIIIJIHGIJJJJJJJJJFHHIJIJI\n",
      "@SRR5077691.79\n",
      "GTTTCATTGTGTCTTTATTTCCTGTATTAATGAGATGGGATATGAAGTCT\n",
      "+\n",
      "JJJJJJJIJJIJJJJJJJJIHJJJJJJJJJJJJJJJJHHHHHFFFFF@CB\n",
      "@SRR5077691.32\n",
      "GCCGTGTGCCCCCTCTTGGGTGACACCCCACCCCACCCTTATTTGCATCN\n"
     ]
    }
   ],
   "source": [
    "# Peak at medium reference and read\n",
    "print('testfastring.fa')\n",
    "!head benchmark/testfiles/testfastring.fa\n",
    "print('\\n\\ntestfqstring.fq')\n",
    "!head benchmark/testfiles/testfqstring.fq"
   ]
  },
  {
   "cell_type": "code",
   "execution_count": 10,
   "id": "c57e8276",
   "metadata": {},
   "outputs": [],
   "source": [
    "%%capture\n",
    "# Bwt\n",
    "!{ time python bwamin.py --index --bwt --fa benchmark/testfiles/testfastring.fa 2> sleep.stderr ;} 2> benchmark/testfiles/bwaminBwtMedTimeIndex.txt\n",
    "!{ time python bwamin.py --mem --bwt --fa benchmark/testfiles/testfastring.fa --fq benchmark/testfiles/testfqstring.fq -out benchmark/testfiles/bwttest.sam 2> sleep.stderr ;} 2> benchmark/testfiles/bwaminBwtMedTimeMem.txt\n",
    "bwt[1] = addSec('benchmark/testfiles/bwaminBwtMedTime')\n",
    "\n",
    "# Sw\n",
    "!{ time python bwamin.py --mem --sw\\\n",
    "  --fa benchmark/testfiles/testfastring.fa\\\n",
    "  --fq benchmark/testfiles/testfqstring.fq \\\n",
    "  -out benchmark/testfiles/swtest.sam \\\n",
    "  2> sleep.stderr ;} 2> benchmark/testfiles/bwaminSwMedTime.txt\n",
    "sw[1] = convertSec('benchmark/testfiles/bwaminSwMedTime.txt')\n",
    "\n",
    "# Bwa\n",
    "!{ time bwa index benchmark/testfiles/testfastring.fa 2> sleep.stderr ;} 2> benchmark/testfiles/bwaMedTimeIndex.txt\n",
    "!{ time bwa mem benchmark/testfiles/testfastring.fa\\\n",
    "  benchmark/testfiles/testfqstring.fq > benchmark/testfiles/bwatest.sam 2> sleep.stderr ;} 2> benchmark/testfiles/bwaMedTimeMem.txt\n",
    "bwa[1] = addSec('benchmark/testfiles/bwaMedTime')"
   ]
  },
  {
   "cell_type": "code",
   "execution_count": 11,
   "id": "9447d010",
   "metadata": {},
   "outputs": [
    {
     "name": "stdout",
     "output_type": "stream",
     "text": [
      "Bwt\n",
      "real\t1.3860000000000001\n",
      "user\t1.02\n",
      "sys\t0.295\n",
      "\n",
      "Sw\n",
      "\n",
      "real\t0m0.573s\n",
      "user\t0m0.521s\n",
      "sys\t0m0.047s\n",
      "\n",
      "Bwa\n",
      "real\t0.043\n",
      "user\t0.007\n",
      "sys\t0.014\n"
     ]
    }
   ],
   "source": [
    "# Print Medium Results\n",
    "# print('Bwt')\n",
    "# !cat benchmark/testfiles/bwaminBwtMedTime.txt\n",
    "# print('\\nSw')\n",
    "# !cat benchmark/testfiles/bwaminSwMedTime.txt\n",
    "# print('\\nBwa')\n",
    "# !cat benchmark/testfiles/bwaMedTime.txt"
   ]
  },
  {
   "cell_type": "code",
   "execution_count": null,
   "id": "8c980fd6",
   "metadata": {},
   "outputs": [],
   "source": [
    "print(bwt)\n",
    "print(sw)\n",
    "print(bwa)"
   ]
  },
  {
   "cell_type": "markdown",
   "id": "594c1526",
   "metadata": {},
   "source": [
    "### Long"
   ]
  },
  {
   "cell_type": "markdown",
   "id": "bb08c3f1",
   "metadata": {},
   "source": [
    "This is an Ebola Virus found using sra."
   ]
  },
  {
   "cell_type": "code",
   "execution_count": 12,
   "id": "04339495",
   "metadata": {},
   "outputs": [
    {
     "name": "stdout",
     "output_type": "stream",
     "text": [
      "SRR10769501.fasta.fixed\n",
      ">@SRR10769501.1.1 M02486:32:000000000-BTHFB:1:1101:16201:1720 length=160\n",
      "GCCGTAGCCCTGCTCGCCAGCGCGTAGCGGTGTCGTTTCCGTAGCGTCATCTTCGTCATCATTATTTCCAGTGGGTTCCTCGTTTTCACTCGCATTCGTGTCTTCGTCTTCCACCTTGCGAACAAAGTCTTTCTTCCCCCGGATCGCAAAGAGCTCCAGC\n",
      ">@SRR10769501.2.1 M02486:32:000000000-BTHFB:1:1101:21365:1807 length=160\n",
      "GGGCTTCACGGGCTTGCGGCGTTTCCACGCCGTGGTCAACGGCGTTGCGCAGCAGGTGGCCCAGCGGGGCATCGAGCATCTGTCTCTTATACACATCTCCGACCCCACTCTACAGGCACAAATCTCCTATTCCGTCTTCTTCTTTAAAACAAAAACCCCC\n",
      "\n",
      "\n",
      "SRR10769501.fastq\n",
      "@SRR10769501.1.1 M02486:32:000000000-BTHFB:1:1101:16201:1720 length=160\n",
      "GCCGTAGCCCTGCTCGCCAGCGCGTAGCGGTGTCGTTTCCGTAGCGTCATCTTCGTCATCATTATTTCCAGTGGGTTCCTCGTTTTCACTCGCATTCGTGTCTTCGTCTTCCACCTTGCGAACAAAGTCTTTCTTCCCCCGGATCGCAAAGAGCTCCAGC\n",
      "+SRR10769501.1.1 M02486:32:000000000-BTHFB:1:1101:16201:1720 length=160\n",
      "????????????????????????????????????????????????????????????????????????????????????????????????????????????????????????????????????????????????????????????????\n"
     ]
    }
   ],
   "source": [
    "# Peak at long reference and read\n",
    "print('SRR10769501.fasta.fixed')\n",
    "!head -n 4 benchmark/mydata/SRR10769501.fasta.fixed\n",
    "print('\\n\\nSRR10769501.fastq')\n",
    "!head -n 4 benchmark/mydata/SRR10769501.fastq"
   ]
  },
  {
   "cell_type": "code",
   "execution_count": 13,
   "id": "b794657f",
   "metadata": {},
   "outputs": [],
   "source": [
    "%%capture\n",
    "# Bwt\n",
    "# Note file too big will not run\n",
    "# !{ time python bwamin.py --index --bwt\\\n",
    "#   --fa benchmark/mydata/SRR10769501.fasta.fixed \\\n",
    "#   2> sleep.stderr ;} \\\n",
    "#   2> benchmark/mydata/bwaminBwtLongTimeIndex.txt\n",
    "# !{ time python bwamin.py --mem --bwt\\\n",
    "#   --fa benchmark/mydata/SRR10769501.fasta.fixed\\\n",
    "#   --fq benchmark/mydata/SRR10769501.fastq \\\n",
    "#   2> sleep.stderr ;} \\\n",
    "#   2> benchmark/mydata/bwaminBwtLongTimeMem.txt\n",
    "# addTime('benchmark/mydata/bwaminBwtLongTime')\n",
    "\n"
   ]
  },
  {
   "cell_type": "code",
   "execution_count": 14,
   "id": "0a0c0164",
   "metadata": {},
   "outputs": [],
   "source": [
    "%%capture\n",
    "# NOTE: This process will be killed even with 48GB, Don't run\n",
    "# Sw\n",
    "# !{ time python bwamin.py --mem --sw\\\n",
    "#   --fa benchmark/mydata/SRR10769501.fasta.fixed\\\n",
    "#   --fq benchmark/mydata/SRR10769501.fastq -out swlong.sam\\\n",
    "#   2> sleep.stderr ;} 2> benchmark/mydata/bwaminSwLongTime.txt\n",
    "# convertTime('benchmark/mydata/bwaminSwLongTime.txt')"
   ]
  },
  {
   "cell_type": "code",
   "execution_count": 15,
   "id": "8c07b636",
   "metadata": {},
   "outputs": [],
   "source": [
    "%%capture\n",
    "# Bwa\n",
    "!{ time bwa index benchmark/mydata/SRR10769501.fasta.fixed \\\n",
    "  2> sleep.stderr ;} 2> benchmark/mydata/bwaLongTimeIndex.txt\n",
    "!{ time bwa mem benchmark/mydata/SRR10769501.fasta.fixed\\\n",
    "  benchmark/mydata/SRR10769501.fastq > benchmark/mydata/bwalong.sam\\\n",
    "  2> sleep.stderr ;} 2> benchmark/mydata/bwaLongTimeMem.txt\n",
    "bwa[2] = addSec('benchmark/mydata/bwaLongTime')"
   ]
  },
  {
   "cell_type": "code",
   "execution_count": 16,
   "id": "260b398e",
   "metadata": {},
   "outputs": [
    {
     "name": "stdout",
     "output_type": "stream",
     "text": [
      "Bwt\n",
      "cat: benchmark/mydata/bwaminBwtLongTime.txt: No such file or directory\n",
      "\n",
      "Sw\n",
      "cat: benchmark/mydata/bwaminSwLongTime.txt: No such file or directory\n",
      "\n",
      "Bwa\n",
      "real\t12.486\n",
      "user\t11.892\n",
      "sys\t0.307\n"
     ]
    }
   ],
   "source": [
    "#Print Short Results\n",
    "# print('Bwt')\n",
    "# !cat benchmark/mydata/bwaminBwtLongTime.txt\n",
    "# print('\\nSw')\n",
    "# !cat benchmark/mydata/bwaminSwLongTime.txt\n",
    "# print('\\nBwa')\n",
    "# !cat benchmark/mydata/bwaLongTime.txt"
   ]
  },
  {
   "cell_type": "code",
   "execution_count": null,
   "id": "04e8922a",
   "metadata": {},
   "outputs": [],
   "source": [
    "print(bwt)\n",
    "print(sw)\n",
    "print(bwa)"
   ]
  },
  {
   "cell_type": "markdown",
   "id": "6fb8ed5b",
   "metadata": {},
   "source": [
    "## Ebola Virus "
   ]
  },
  {
   "cell_type": "markdown",
   "id": "41d0aa5b",
   "metadata": {},
   "source": [
    "I found a smaller one with only 19kbases"
   ]
  },
  {
   "cell_type": "code",
   "execution_count": 24,
   "id": "a4b89f10",
   "metadata": {},
   "outputs": [],
   "source": [
    "# SRR10083456.fastq\n",
    "#bwt\n",
    "!{ time python bwamin.py --index --bwt\\\n",
    "  --fa benchmark/mydata/SRR10083456.fasta \\\n",
    "  2> sleep.stderr ;} \\\n",
    "  2> benchmark/mydata/bwaminBwtEbolaTimeIndex.txt\n",
    "\n",
    "!{ time python bwamin.py --mem --bwt\\\n",
    "  --fa benchmark/mydata/SRR10083456.fastq\\\n",
    "  --fq benchmark/mydata/SRR10083456.fastq \\\n",
    "  -out benchmark/mydata/bwtebola.sam 2> sleep.stderr ;} \\\n",
    "  2> benchmark/mydata/bwaminBwtEbolaTimeMem.txt\n",
    "bwt[3] = addSec('benchmark/mydata/bwaminBwtEbolaTime')"
   ]
  },
  {
   "cell_type": "markdown",
   "id": "45b11631",
   "metadata": {},
   "source": [
    "Note: Sw is slow on this one"
   ]
  },
  {
   "cell_type": "code",
   "execution_count": 23,
   "id": "c60c3a7e",
   "metadata": {},
   "outputs": [],
   "source": [
    "# Sw KILLED\n",
    "# !{ time python bwamin.py --mem --sw\\\n",
    "#   --fa benchmark/mydata/SRR10083456.fasta\\\n",
    "#   --fq benchmark/mydata/SRR10083456.fastq -out swebola.sam\\\n",
    "#   2> sleep.stderr ;} 2> benchmark/mydata/bwaminSwEbolaTime.txt\n",
    "# sw[3] = convertSec('benchmark/mydata/bwaminSwEbolaTime.txt')"
   ]
  },
  {
   "cell_type": "code",
   "execution_count": 19,
   "id": "65ab4b17",
   "metadata": {},
   "outputs": [],
   "source": [
    "%%capture\n",
    "# Bwa\n",
    "!{ time bwa index benchmark/mydata/SRR10083456.fasta \\\n",
    "  2> sleep.stderr ;} 2> benchmark/mydata/bwaEbolaTimeIndex.txt\n",
    "\n",
    "!{ time bwa mem benchmark/mydata/SRR10083456.fasta\\\n",
    "  benchmark/mydata/SRR10083456.fastq > benchmark/mydata/bwaebola.sam\\\n",
    "  2> sleep.stderr ;} 2> benchmark/mydata/bwaEbolaTimeMem.txt\n",
    "bwa[3] = addSec('benchmark/mydata/bwaEbolaTime')"
   ]
  },
  {
   "cell_type": "code",
   "execution_count": null,
   "id": "18fa46ad",
   "metadata": {},
   "outputs": [],
   "source": [
    "#Print Ebola Results\n",
    "print('Bwt')\n",
    "!cat benchmark/mydata/bwaminBwtEbolaTime.txt\n",
    "print('\\nSw')\n",
    "!cat benchmark/mydata/bwaminSwEbolaTime.txt\n",
    "print('\\nBwa')\n",
    "!cat benchmark/mydata/bwaEbolaTime.txt"
   ]
  },
  {
   "cell_type": "code",
   "execution_count": 20,
   "id": "50adcac4",
   "metadata": {},
   "outputs": [
    {
     "name": "stdout",
     "output_type": "stream",
     "text": [
      "[0.481, 0.5780000000000001, 0, 0.749, 0]\n",
      "[0.24, 0.573, 0, 0, 0]\n",
      "[0.019, 0.023, 7.239, 0.052000000000000005, 0]\n"
     ]
    }
   ],
   "source": [
    "print(bwt)\n",
    "print(sw)\n",
    "print(bwa)"
   ]
  },
  {
   "cell_type": "markdown",
   "id": "20871775",
   "metadata": {},
   "source": [
    "### In-Class sample\n",
    "We have chromsome 17 from a mouse as the reference and the reads come from Sox2. This was found in lab 5. Although this is the smallest example in class, my tools could not complete it."
   ]
  },
  {
   "cell_type": "markdown",
   "id": "8339fc4c",
   "metadata": {},
   "source": [
    "Note: Just like in the Long section, BWT and SW will not run to completion due to low memory. They both get killed in the process."
   ]
  },
  {
   "cell_type": "code",
   "execution_count": 21,
   "id": "389a4b2c",
   "metadata": {},
   "outputs": [],
   "source": [
    "%%capture\n",
    "# Bwa\n",
    "!{ time bwa index benchmark/classExample/GRCm38.chr17.fa \\\n",
    "  2> sleep.stderr ;} 2> benchmark/mydata/bwaClassTimeIndex.txt\n",
    "\n",
    "!{ time bwa mem benchmark/classExample/GRCm38.chr17.fa\\\n",
    "  benchmark/mydata/Sox2.fastq > benchmark/mydata/bwaclass.sam\\\n",
    "  2> sleep.stderr ;} 2> benchmark/mydata/bwaClassTimeMem.txt\n",
    "bwa[4] = addSec('benchmark/mydata/bwaClassTime')"
   ]
  },
  {
   "cell_type": "code",
   "execution_count": 25,
   "id": "b55e8c57",
   "metadata": {},
   "outputs": [
    {
     "name": "stdout",
     "output_type": "stream",
     "text": [
      "[0.481, 0.5780000000000001, 0, 0.741, 0]\n",
      "[0.24, 0.573, 0, 0, 0]\n",
      "[0.019, 0.023, 7.239, 0.052000000000000005, 74.496]\n"
     ]
    }
   ],
   "source": [
    "print(bwt)\n",
    "print(sw)\n",
    "print(bwa)"
   ]
  },
  {
   "cell_type": "markdown",
   "id": "10509d48",
   "metadata": {},
   "source": [
    "# Graphs"
   ]
  },
  {
   "cell_type": "code",
   "execution_count": 30,
   "id": "a40b7356",
   "metadata": {},
   "outputs": [
    {
     "name": "stdout",
     "output_type": "stream",
     "text": [
      "-rw-rw---- 1 ndtorres root 11 Jun  7 06:54 benchmark/testfiles/short.fa\n",
      "-rw-rw---- 1 ndtorres root 513 Jun  7 06:54 benchmark/testfiles/testfastring.fa\n",
      "-rw-rw---- 1 ndtorres root 7503235 Jun  5 17:54 benchmark/mydata/SRR10769501.fasta\n",
      "-rw-rw---- 1 ndtorres root 19020 Jun  7 11:08 benchmark/mydata/SRR10083456.fasta\n",
      "-rwxr-x--- 1 ndtorres root 96887024 Jun  7 15:30 benchmark/classExample/GRCm38.chr17.fa\n"
     ]
    }
   ],
   "source": [
    "# Fasta file size\n",
    "!ls -l benchmark/testfiles/short.fa\n",
    "!ls -l benchmark/testfiles/testfastring.fa\n",
    "!ls -l benchmark/mydata/SRR10769501.fasta\n",
    "!ls -l benchmark/mydata/SRR10083456.fasta\n",
    "!ls -l benchmark/classExample/GRCm38.chr17.fa"
   ]
  },
  {
   "cell_type": "code",
   "execution_count": 31,
   "id": "589c75ae",
   "metadata": {},
   "outputs": [
    {
     "name": "stdout",
     "output_type": "stream",
     "text": [
      "-rw-rw---- 1 ndtorres root 20 Jun  7 06:54 benchmark/testfiles/short.fq\n",
      "-rw-rw---- 1 ndtorres root 1076 Jun  7 06:54 benchmark/testfiles/testfqstring.fq\n",
      "-rw-rw---- 1 ndtorres root 15006470 Jun  5 17:54 benchmark/mydata/SRR10769501.fastq\n",
      "-rw-rw---- 1 ndtorres root 38039 Jun  7 11:08 benchmark/mydata/SRR10083456.fastq\n",
      "-rw-rw---- 1 ndtorres root 1916 Jun  7 15:33 benchmark/classExample/Sox2.fastq\n"
     ]
    }
   ],
   "source": [
    "# Fastq file size\n",
    "!ls -l benchmark/testfiles/short.fq\n",
    "!ls -l benchmark/testfiles/testfqstring.fq\n",
    "!ls -l benchmark/mydata/SRR10769501.fastq\n",
    "!ls -l benchmark/mydata/SRR10083456.fastq\n",
    "!ls -l benchmark/classExample/Sox2.fastq"
   ]
  },
  {
   "cell_type": "code",
   "execution_count": 32,
   "id": "9a0f1269",
   "metadata": {},
   "outputs": [],
   "source": [
    "fastaSize = [11, 513, 7503235, 19020, 96887024]\n",
    "fastqSize = [20, 1076, 15006470, 38039, 1916]"
   ]
  },
  {
   "cell_type": "code",
   "execution_count": 110,
   "id": "11ad7147",
   "metadata": {},
   "outputs": [
    {
     "data": {
      "text/html": [
       "<div>\n",
       "<style scoped>\n",
       "    .dataframe tbody tr th:only-of-type {\n",
       "        vertical-align: middle;\n",
       "    }\n",
       "\n",
       "    .dataframe tbody tr th {\n",
       "        vertical-align: top;\n",
       "    }\n",
       "\n",
       "    .dataframe thead th {\n",
       "        text-align: right;\n",
       "    }\n",
       "</style>\n",
       "<table border=\"1\" class=\"dataframe\">\n",
       "  <thead>\n",
       "    <tr style=\"text-align: right;\">\n",
       "      <th></th>\n",
       "      <th>bwt</th>\n",
       "      <th>sw</th>\n",
       "      <th>bwa</th>\n",
       "      <th>faSize</th>\n",
       "      <th>fqSize</th>\n",
       "    </tr>\n",
       "  </thead>\n",
       "  <tbody>\n",
       "    <tr>\n",
       "      <th>0</th>\n",
       "      <td>0.481</td>\n",
       "      <td>0.240</td>\n",
       "      <td>0.019</td>\n",
       "      <td>11</td>\n",
       "      <td>20</td>\n",
       "    </tr>\n",
       "    <tr>\n",
       "      <th>1</th>\n",
       "      <td>0.578</td>\n",
       "      <td>0.573</td>\n",
       "      <td>0.023</td>\n",
       "      <td>513</td>\n",
       "      <td>1076</td>\n",
       "    </tr>\n",
       "    <tr>\n",
       "      <th>2</th>\n",
       "      <td>0.000</td>\n",
       "      <td>0.000</td>\n",
       "      <td>7.239</td>\n",
       "      <td>7503235</td>\n",
       "      <td>15006470</td>\n",
       "    </tr>\n",
       "    <tr>\n",
       "      <th>3</th>\n",
       "      <td>0.741</td>\n",
       "      <td>0.000</td>\n",
       "      <td>0.052</td>\n",
       "      <td>19020</td>\n",
       "      <td>38039</td>\n",
       "    </tr>\n",
       "    <tr>\n",
       "      <th>4</th>\n",
       "      <td>0.000</td>\n",
       "      <td>0.000</td>\n",
       "      <td>74.496</td>\n",
       "      <td>96887024</td>\n",
       "      <td>1916</td>\n",
       "    </tr>\n",
       "  </tbody>\n",
       "</table>\n",
       "</div>"
      ],
      "text/plain": [
       "     bwt     sw     bwa    faSize    fqSize\n",
       "0  0.481  0.240   0.019        11        20\n",
       "1  0.578  0.573   0.023       513      1076\n",
       "2  0.000  0.000   7.239   7503235  15006470\n",
       "3  0.741  0.000   0.052     19020     38039\n",
       "4  0.000  0.000  74.496  96887024      1916"
      ]
     },
     "execution_count": 110,
     "metadata": {},
     "output_type": "execute_result"
    }
   ],
   "source": [
    "import matplotlib.pyplot as plt\n",
    "import numpy as np\n",
    "times = pd.DataFrame(\n",
    "    {'bwt': bwt,\n",
    "     'sw': sw,\n",
    "     'bwa': bwa,\n",
    "     'faSize': fastaSize,\n",
    "     'fqSize': fastqSize\n",
    "    })\n",
    "# times['productSize'] = times['faSize'] * times['fqSize']\n",
    "# times = times.swapaxes('index','columns')\n",
    "times"
   ]
  },
  {
   "cell_type": "code",
   "execution_count": 100,
   "id": "ef3e71d0",
   "metadata": {},
   "outputs": [
    {
     "data": {
      "image/png": "[encoded data removed]",
      "text/plain": [
       "<Figure size 432x288 with 1 Axes>"
      ]
     },
     "metadata": {
      "needs_background": "light"
     },
     "output_type": "display_data"
    }
   ],
   "source": [
    "# times['bwt'].groupby(times.index).size().plot(kind='bar')\n",
    "plt.bar([0,1,2,3,4], bwt)\n",
    "plt.show()"
   ]
  },
  {
   "cell_type": "code",
   "execution_count": 90,
   "id": "ecf078ab",
   "metadata": {},
   "outputs": [
    {
     "data": {
      "text/plain": [
       "<AxesSubplot:>"
      ]
     },
     "execution_count": 90,
     "metadata": {},
     "output_type": "execute_result"
    },
    {
     "data": {
      "image/png": "[encoded data removed]",
      "text/plain": [
       "<Figure size 432x288 with 1 Axes>"
      ]
     },
     "metadata": {
      "needs_background": "light"
     },
     "output_type": "display_data"
    }
   ],
   "source": [
    "sns.barplot(data=times, x=times.index, hue=times.columns)\n"
   ]
  },
  {
   "cell_type": "markdown",
   "id": "abc5b831",
   "metadata": {},
   "source": [
    "## Conclusion\n"
   ]
  }
 ],
 "metadata": {
  "kernelspec": {
   "display_name": "Python 3 (ipykernel)",
   "language": "python",
   "name": "python3"
  },
  "language_info": {
   "codemirror_mode": {
    "name": "ipython",
    "version": 3
   },
   "file_extension": ".py",
   "mimetype": "text/x-python",
   "name": "python",
   "nbconvert_exporter": "python",
   "pygments_lexer": "ipython3",
   "version": "3.9.5"
  }
 },
 "nbformat": 4,
 "nbformat_minor": 5
}
